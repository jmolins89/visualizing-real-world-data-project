{
 "cells": [
  {
   "cell_type": "code",
   "execution_count": 374,
   "metadata": {},
   "outputs": [],
   "source": [
    "import pandas as pd\n",
    "import re\n",
    "import requests as req\n",
    "import os\n",
    "from dotenv import load_dotenv\n",
    "load_dotenv()\n",
    "from pymongo import MongoClient\n",
    "import folium\n",
    "from folium import plugins\n",
    "from folium.plugins import MiniMap\n",
    "\n",
    "\n",
    "api_key = os.environ[\"KEY\"] "
   ]
  },
  {
   "cell_type": "code",
   "execution_count": 375,
   "metadata": {},
   "outputs": [],
   "source": [
    "client = MongoClient('mongodb://localhost:27017/')\n",
    "db = client.companies"
   ]
  },
  {
   "cell_type": "code",
   "execution_count": 376,
   "metadata": {},
   "outputs": [],
   "source": [
    "df = db.companies"
   ]
  },
  {
   "cell_type": "markdown",
   "metadata": {},
   "source": [
    "## Query Pymongo eligiendo empresas tecnológicas, con información sobre oficinas, con empleados, fundadas a partir de 2005 y que no hayan quebrado"
   ]
  },
  {
   "cell_type": "code",
   "execution_count": 377,
   "metadata": {},
   "outputs": [],
   "source": [
    "companies_with_coord = pd.DataFrame(df.find(\n",
    "    {'$and': \n",
    "     [\n",
    "         {'$or':\n",
    "          [\n",
    "         {'category_code':'games_video'},\n",
    "         {'category_code':'web'},\n",
    "         {'category_code':'software'},\n",
    "         {'category_code':'mobile'},\n",
    "         {'category_code':'advertising'},\n",
    "         {'category_code':'ecommerce'},\n",
    "         {'category_code':'design'},\n",
    "         {'category_code':'biotech'},\n",
    "         {'category_code':'cleantech'},\n",
    "         {'category_code':'travel'}\n",
    "     ]\n",
    "         },\n",
    "         {\"number_of_employees\": \n",
    "          {'$not': \n",
    "           {'$eq': None}\n",
    "          }\n",
    "         },\n",
    "         {\"offices.latitude\": \n",
    "          {'$exists': True}\n",
    "         },\n",
    "          {\"founded_year\": \n",
    "          {'$gte': 2005}\n",
    "         },\n",
    "         {\"offices.longitude\": \n",
    "          {'$exists': True}\n",
    "         },\n",
    "         {\"offices.latitude\": \n",
    "          {'$not': \n",
    "           {'$eq': None}\n",
    "          }\n",
    "         },\n",
    "         {\"offices.longitude\": \n",
    "          {'$not': \n",
    "           {'$eq': None}\n",
    "          }\n",
    "         },\n",
    "         {'deadpooled_year': \n",
    "             {'$eq' :None}\n",
    "         }\n",
    "     ]\n",
    "    }))"
   ]
  },
  {
   "cell_type": "code",
   "execution_count": 378,
   "metadata": {},
   "outputs": [
    {
     "data": {
      "text/plain": [
       "(2102, 42)"
      ]
     },
     "execution_count": 378,
     "metadata": {},
     "output_type": "execute_result"
    }
   ],
   "source": [
    "companies_with_coord.shape"
   ]
  },
  {
   "cell_type": "code",
   "execution_count": 379,
   "metadata": {},
   "outputs": [
    {
     "data": {
      "text/plain": [
       "count    2102.000000\n",
       "mean     2007.091342\n",
       "std         1.204557\n",
       "min      2005.000000\n",
       "25%      2006.000000\n",
       "50%      2007.000000\n",
       "75%      2008.000000\n",
       "max      2013.000000\n",
       "Name: founded_year, dtype: float64"
      ]
     },
     "execution_count": 379,
     "metadata": {},
     "output_type": "execute_result"
    }
   ],
   "source": [
    "companies_with_coord['founded_year'].describe()"
   ]
  },
  {
   "cell_type": "markdown",
   "metadata": {},
   "source": [
    "## Limpiando campo total_money_raised"
   ]
  },
  {
   "cell_type": "code",
   "execution_count": 380,
   "metadata": {},
   "outputs": [],
   "source": [
    "letters=[]\n",
    "for i in companies_with_coord['total_money_raised']:\n",
    "    if re.findall('[^0-9.,]+',i) not in letters:\n",
    "        letters.append(re.findall('[^0-9.,]+',i))\n",
    "    "
   ]
  },
  {
   "cell_type": "code",
   "execution_count": 381,
   "metadata": {
    "scrolled": true
   },
   "outputs": [
    {
     "data": {
      "text/plain": [
       "[['$', 'M'],\n",
       " ['$'],\n",
       " ['$', 'k'],\n",
       " ['€', 'M'],\n",
       " ['€', 'k'],\n",
       " ['£', 'k'],\n",
       " ['£', 'M'],\n",
       " ['C$', 'k']]"
      ]
     },
     "execution_count": 381,
     "metadata": {},
     "output_type": "execute_result"
    }
   ],
   "source": [
    "letters"
   ]
  },
  {
   "cell_type": "code",
   "execution_count": 382,
   "metadata": {},
   "outputs": [],
   "source": [
    "dict_coin={\n",
    "    '$' : 'USD',\n",
    "    '£' : 'GBP',\n",
    "    'C$' : 'CAD',\n",
    "    'kr' : 'SEK',\n",
    "    '€' : 'EUR'\n",
    "}\n",
    "coins= ['USD','GBP','CAD','SEK']"
   ]
  },
  {
   "cell_type": "code",
   "execution_count": 383,
   "metadata": {},
   "outputs": [],
   "source": [
    "coindict={}\n",
    "for i in coins:\n",
    "    res = req.get('https://api.exchangeratesapi.io/latest')\n",
    "    data = res.json()\n",
    "    coindict[i] = data['rates'][i]"
   ]
  },
  {
   "cell_type": "code",
   "execution_count": 384,
   "metadata": {},
   "outputs": [
    {
     "data": {
      "text/plain": [
       "{'USD': 1.1215, 'GBP': 0.9034, 'CAD': 1.4654, 'SEK': 10.5168}"
      ]
     },
     "execution_count": 384,
     "metadata": {},
     "output_type": "execute_result"
    }
   ],
   "source": [
    "coindict"
   ]
  },
  {
   "cell_type": "code",
   "execution_count": 385,
   "metadata": {},
   "outputs": [],
   "source": [
    "dict_quantity={\n",
    "    '$': 1,\n",
    "    'M': 1000000, \n",
    "    'B':1000000000, \n",
    "    'k': 1000, \n",
    "    '£':coindict['GBP']/coindict['USD'],  \n",
    "    'C$':coindict['CAD']/coindict['USD'], \n",
    "    'kr':coindict['SEK']/coindict['USD'],\n",
    "    '€':1/coindict['USD']\n",
    "}"
   ]
  },
  {
   "cell_type": "code",
   "execution_count": 386,
   "metadata": {},
   "outputs": [],
   "source": [
    "total_money_raised_normalized=[]\n",
    "for i in companies_with_coord['total_money_raised']:\n",
    "    x = float(re.findall('[0-9.]+',str(i))[0])\n",
    "    y=1\n",
    "    for j in re.findall('[^0-9.]+',str(i)):\n",
    "        y = y* dict_quantity[j]\n",
    "    total_money_raised_normalized.append(x*y)"
   ]
  },
  {
   "cell_type": "code",
   "execution_count": 387,
   "metadata": {},
   "outputs": [
    {
     "data": {
      "text/plain": [
       "2102"
      ]
     },
     "execution_count": 387,
     "metadata": {},
     "output_type": "execute_result"
    }
   ],
   "source": [
    "len(total_money_raised_normalized)"
   ]
  },
  {
   "cell_type": "code",
   "execution_count": 388,
   "metadata": {},
   "outputs": [],
   "source": [
    "companies_with_coord['total_money_raised_normalized_USD']= total_money_raised_normalized"
   ]
  },
  {
   "cell_type": "code",
   "execution_count": 389,
   "metadata": {},
   "outputs": [
    {
     "data": {
      "text/plain": [
       "0    16500000.0\n",
       "1    45000000.0\n",
       "2    21000000.0\n",
       "3    23400000.0\n",
       "4    88700000.0\n",
       "Name: total_money_raised_normalized_USD, dtype: float64"
      ]
     },
     "execution_count": 389,
     "metadata": {},
     "output_type": "execute_result"
    }
   ],
   "source": [
    "companies_with_coord['total_money_raised_normalized_USD'].head()"
   ]
  },
  {
   "cell_type": "code",
   "execution_count": 390,
   "metadata": {},
   "outputs": [],
   "source": [
    "#companies_first_filter_2 = companies_first_filter[companies_first_filter['total_money_raised_normalized_USD']>=1000000]"
   ]
  },
  {
   "cell_type": "code",
   "execution_count": 391,
   "metadata": {},
   "outputs": [],
   "source": [
    "#companies_first_filter_2.head()"
   ]
  },
  {
   "cell_type": "markdown",
   "metadata": {},
   "source": [
    "## Duplicando registros de empresas con varias oficinas, creando un registro por cada oficina"
   ]
  },
  {
   "cell_type": "code",
   "execution_count": 392,
   "metadata": {},
   "outputs": [],
   "source": [
    "companies_with_coord_intermediate=companies_with_coord.drop(columns='offices')"
   ]
  },
  {
   "cell_type": "code",
   "execution_count": 393,
   "metadata": {},
   "outputs": [],
   "source": [
    "office_list=[]\n",
    "for i in companies_with_coord['offices']:\n",
    "    if not isinstance(i,list):\n",
    "        office_list.append(list(i))\n",
    "    else: office_list.append(i)"
   ]
  },
  {
   "cell_type": "code",
   "execution_count": 394,
   "metadata": {},
   "outputs": [],
   "source": [
    "#companies_first_filter_3 = companies_first_filter_2.copy()\n",
    "companies_with_coord['offices']=office_list"
   ]
  },
  {
   "cell_type": "code",
   "execution_count": 395,
   "metadata": {},
   "outputs": [
    {
     "data": {
      "text/plain": [
       "0    [{'description': 'Headquarters', 'address1': '...\n",
       "1    [{'description': '', 'address1': '100 5th Ave ...\n",
       "2    [{'description': '', 'address1': '3525 Eastham...\n",
       "3    [{'description': None, 'address1': '442 Post S...\n",
       "4    [{'description': '', 'address1': '475 Park Ave...\n",
       "Name: offices, dtype: object"
      ]
     },
     "execution_count": 395,
     "metadata": {},
     "output_type": "execute_result"
    }
   ],
   "source": [
    "companies_with_coord['offices'].head()"
   ]
  },
  {
   "cell_type": "code",
   "execution_count": 396,
   "metadata": {},
   "outputs": [],
   "source": [
    "companies_with_coord2 = pd.DataFrame(companies_with_coord.offices.tolist()).stack().reset_index().drop(columns='level_1')\n",
    "companies_with_coord2.columns=['index','office']"
   ]
  },
  {
   "cell_type": "code",
   "execution_count": 397,
   "metadata": {},
   "outputs": [
    {
     "data": {
      "text/html": [
       "<div>\n",
       "<style scoped>\n",
       "    .dataframe tbody tr th:only-of-type {\n",
       "        vertical-align: middle;\n",
       "    }\n",
       "\n",
       "    .dataframe tbody tr th {\n",
       "        vertical-align: top;\n",
       "    }\n",
       "\n",
       "    .dataframe thead th {\n",
       "        text-align: right;\n",
       "    }\n",
       "</style>\n",
       "<table border=\"1\" class=\"dataframe\">\n",
       "  <thead>\n",
       "    <tr style=\"text-align: right;\">\n",
       "      <th></th>\n",
       "      <th>index</th>\n",
       "      <th>office</th>\n",
       "    </tr>\n",
       "  </thead>\n",
       "  <tbody>\n",
       "    <tr>\n",
       "      <th>0</th>\n",
       "      <td>0</td>\n",
       "      <td>{'description': 'Headquarters', 'address1': '9...</td>\n",
       "    </tr>\n",
       "    <tr>\n",
       "      <th>1</th>\n",
       "      <td>1</td>\n",
       "      <td>{'description': '', 'address1': '100 5th Ave F...</td>\n",
       "    </tr>\n",
       "    <tr>\n",
       "      <th>2</th>\n",
       "      <td>2</td>\n",
       "      <td>{'description': '', 'address1': '3525 Eastham ...</td>\n",
       "    </tr>\n",
       "    <tr>\n",
       "      <th>3</th>\n",
       "      <td>3</td>\n",
       "      <td>{'description': None, 'address1': '442 Post St...</td>\n",
       "    </tr>\n",
       "    <tr>\n",
       "      <th>4</th>\n",
       "      <td>4</td>\n",
       "      <td>{'description': '', 'address1': '475 Park Ave ...</td>\n",
       "    </tr>\n",
       "  </tbody>\n",
       "</table>\n",
       "</div>"
      ],
      "text/plain": [
       "   index                                             office\n",
       "0      0  {'description': 'Headquarters', 'address1': '9...\n",
       "1      1  {'description': '', 'address1': '100 5th Ave F...\n",
       "2      2  {'description': '', 'address1': '3525 Eastham ...\n",
       "3      3  {'description': None, 'address1': '442 Post St...\n",
       "4      4  {'description': '', 'address1': '475 Park Ave ..."
      ]
     },
     "metadata": {},
     "output_type": "display_data"
    }
   ],
   "source": [
    "display(companies_with_coord2.head())"
   ]
  },
  {
   "cell_type": "code",
   "execution_count": 398,
   "metadata": {},
   "outputs": [],
   "source": [
    "companies_with_coord.reset_index(inplace=True)"
   ]
  },
  {
   "cell_type": "code",
   "execution_count": 399,
   "metadata": {},
   "outputs": [
    {
     "data": {
      "text/html": [
       "<div>\n",
       "<style scoped>\n",
       "    .dataframe tbody tr th:only-of-type {\n",
       "        vertical-align: middle;\n",
       "    }\n",
       "\n",
       "    .dataframe tbody tr th {\n",
       "        vertical-align: top;\n",
       "    }\n",
       "\n",
       "    .dataframe thead th {\n",
       "        text-align: right;\n",
       "    }\n",
       "</style>\n",
       "<table border=\"1\" class=\"dataframe\">\n",
       "  <thead>\n",
       "    <tr style=\"text-align: right;\">\n",
       "      <th></th>\n",
       "      <th>index</th>\n",
       "      <th>_id</th>\n",
       "      <th>acquisition</th>\n",
       "      <th>acquisitions</th>\n",
       "      <th>alias_list</th>\n",
       "      <th>blog_feed_url</th>\n",
       "      <th>blog_url</th>\n",
       "      <th>category_code</th>\n",
       "      <th>competitions</th>\n",
       "      <th>created_at</th>\n",
       "      <th>...</th>\n",
       "      <th>products</th>\n",
       "      <th>providerships</th>\n",
       "      <th>relationships</th>\n",
       "      <th>screenshots</th>\n",
       "      <th>tag_list</th>\n",
       "      <th>total_money_raised</th>\n",
       "      <th>twitter_username</th>\n",
       "      <th>updated_at</th>\n",
       "      <th>video_embeds</th>\n",
       "      <th>total_money_raised_normalized_USD</th>\n",
       "    </tr>\n",
       "  </thead>\n",
       "  <tbody>\n",
       "    <tr>\n",
       "      <th>0</th>\n",
       "      <td>0</td>\n",
       "      <td>52cdef7c4bab8bd675297d91</td>\n",
       "      <td>{'price_amount': None, 'price_currency_code': ...</td>\n",
       "      <td>[]</td>\n",
       "      <td></td>\n",
       "      <td>http://blog.geni.com/index.rdf</td>\n",
       "      <td>http://blog.geni.com</td>\n",
       "      <td>web</td>\n",
       "      <td>[{'competitor': {'name': 'Ancestry', 'permalin...</td>\n",
       "      <td>Thu May 31 19:52:34 UTC 2007</td>\n",
       "      <td>...</td>\n",
       "      <td>[{'name': 'Geni', 'permalink': 'geni'}]</td>\n",
       "      <td>[]</td>\n",
       "      <td>[{'is_past': False, 'title': 'CEO', 'person': ...</td>\n",
       "      <td>[]</td>\n",
       "      <td>geni, geneology, social, family, genealogy</td>\n",
       "      <td>$16.5M</td>\n",
       "      <td>geni</td>\n",
       "      <td>Wed Oct 10 14:01:29 UTC 2012</td>\n",
       "      <td>[{'embed_code': '&lt;object width=\"425\" height=\"3...</td>\n",
       "      <td>16500000.0</td>\n",
       "    </tr>\n",
       "    <tr>\n",
       "      <th>1</th>\n",
       "      <td>1</td>\n",
       "      <td>52cdef7c4bab8bd675297d9d</td>\n",
       "      <td>{'price_amount': None, 'price_currency_code': ...</td>\n",
       "      <td>[]</td>\n",
       "      <td>None</td>\n",
       "      <td>http://blog.joost.com/atom.xml</td>\n",
       "      <td>http://blog.joost.com</td>\n",
       "      <td>games_video</td>\n",
       "      <td>[{'competitor': {'name': 'Babelgum', 'permalin...</td>\n",
       "      <td>Sat Jun 09 07:05:30 UTC 2007</td>\n",
       "      <td>...</td>\n",
       "      <td>[{'name': 'Joost', 'permalink': 'joost'}]</td>\n",
       "      <td>[]</td>\n",
       "      <td>[{'is_past': False, 'title': 'CEO', 'person': ...</td>\n",
       "      <td>[]</td>\n",
       "      <td>iptv, babelgum, television, video, thevenicepr...</td>\n",
       "      <td>$45M</td>\n",
       "      <td>None</td>\n",
       "      <td>Fri Mar 15 23:31:11 UTC 2013</td>\n",
       "      <td>[{'embed_code': '&lt;object width=\"425\" height=\"3...</td>\n",
       "      <td>45000000.0</td>\n",
       "    </tr>\n",
       "    <tr>\n",
       "      <th>2</th>\n",
       "      <td>2</td>\n",
       "      <td>52cdef7c4bab8bd675297da9</td>\n",
       "      <td>None</td>\n",
       "      <td>[]</td>\n",
       "      <td></td>\n",
       "      <td>http://blog.mahalo.com/feed/</td>\n",
       "      <td>http://blog.mahalo.com/</td>\n",
       "      <td>web</td>\n",
       "      <td>[{'competitor': {'name': 'Topicle', 'permalink...</td>\n",
       "      <td>Thu Jun 14 03:42:20 UTC 2007</td>\n",
       "      <td>...</td>\n",
       "      <td>[{'name': 'Mahalo', 'permalink': 'mahalo'}]</td>\n",
       "      <td>[]</td>\n",
       "      <td>[{'is_past': False, 'title': 'Founder, CEO', '...</td>\n",
       "      <td>[]</td>\n",
       "      <td>search, search-engine, human-powered-search, aaa</td>\n",
       "      <td>$21M</td>\n",
       "      <td>MahaloDotCom</td>\n",
       "      <td>Fri May 17 04:34:19 UTC 2013</td>\n",
       "      <td>[{'embed_code': '&lt;embed src=\"http://blip.tv/pl...</td>\n",
       "      <td>21000000.0</td>\n",
       "    </tr>\n",
       "    <tr>\n",
       "      <th>3</th>\n",
       "      <td>3</td>\n",
       "      <td>52cdef7c4bab8bd675297dab</td>\n",
       "      <td>{'price_amount': None, 'price_currency_code': ...</td>\n",
       "      <td>[]</td>\n",
       "      <td></td>\n",
       "      <td>http://feeds.feedburner.com/kyte_blog</td>\n",
       "      <td>http://kyte.com/blog</td>\n",
       "      <td>games_video</td>\n",
       "      <td>[{'competitor': {'name': 'Ustream', 'permalink...</td>\n",
       "      <td>Thu Jun 14 18:26:11 UTC 2007</td>\n",
       "      <td>...</td>\n",
       "      <td>[{'name': 'Kyte', 'permalink': 'kyte'}, {'name...</td>\n",
       "      <td>[]</td>\n",
       "      <td>[{'is_past': False, 'title': 'CTO and co-found...</td>\n",
       "      <td>[]</td>\n",
       "      <td>video, mobile, iphone-app, video-platform, mob...</td>\n",
       "      <td>$23.4M</td>\n",
       "      <td>kyte</td>\n",
       "      <td>Mon Oct 28 09:34:37 UTC 2013</td>\n",
       "      <td>[{'embed_code': '&lt;embed src=\"http://blip.tv/pl...</td>\n",
       "      <td>23400000.0</td>\n",
       "    </tr>\n",
       "    <tr>\n",
       "      <th>4</th>\n",
       "      <td>4</td>\n",
       "      <td>52cdef7c4bab8bd675297daf</td>\n",
       "      <td>{'price_amount': 62500000, 'price_currency_cod...</td>\n",
       "      <td>[]</td>\n",
       "      <td></td>\n",
       "      <td></td>\n",
       "      <td></td>\n",
       "      <td>mobile</td>\n",
       "      <td>[]</td>\n",
       "      <td>Sat Jun 16 05:53:38 UTC 2007</td>\n",
       "      <td>...</td>\n",
       "      <td>[{'name': 'MyFree411', 'permalink': 'myfree411'}]</td>\n",
       "      <td>[{'title': 'Public Relations', 'is_past': Fals...</td>\n",
       "      <td>[{'is_past': False, 'title': 'Founder and CTO'...</td>\n",
       "      <td>[]</td>\n",
       "      <td>directoryassistance, advertising, mobile</td>\n",
       "      <td>$88.7M</td>\n",
       "      <td>Marchex</td>\n",
       "      <td>Mon Jun 03 05:26:22 UTC 2013</td>\n",
       "      <td>[]</td>\n",
       "      <td>88700000.0</td>\n",
       "    </tr>\n",
       "  </tbody>\n",
       "</table>\n",
       "<p>5 rows × 44 columns</p>\n",
       "</div>"
      ],
      "text/plain": [
       "   index                       _id  \\\n",
       "0      0  52cdef7c4bab8bd675297d91   \n",
       "1      1  52cdef7c4bab8bd675297d9d   \n",
       "2      2  52cdef7c4bab8bd675297da9   \n",
       "3      3  52cdef7c4bab8bd675297dab   \n",
       "4      4  52cdef7c4bab8bd675297daf   \n",
       "\n",
       "                                         acquisition acquisitions alias_list  \\\n",
       "0  {'price_amount': None, 'price_currency_code': ...           []              \n",
       "1  {'price_amount': None, 'price_currency_code': ...           []       None   \n",
       "2                                               None           []              \n",
       "3  {'price_amount': None, 'price_currency_code': ...           []              \n",
       "4  {'price_amount': 62500000, 'price_currency_cod...           []              \n",
       "\n",
       "                           blog_feed_url                 blog_url  \\\n",
       "0         http://blog.geni.com/index.rdf     http://blog.geni.com   \n",
       "1         http://blog.joost.com/atom.xml    http://blog.joost.com   \n",
       "2           http://blog.mahalo.com/feed/  http://blog.mahalo.com/   \n",
       "3  http://feeds.feedburner.com/kyte_blog     http://kyte.com/blog   \n",
       "4                                                                   \n",
       "\n",
       "  category_code                                       competitions  \\\n",
       "0           web  [{'competitor': {'name': 'Ancestry', 'permalin...   \n",
       "1   games_video  [{'competitor': {'name': 'Babelgum', 'permalin...   \n",
       "2           web  [{'competitor': {'name': 'Topicle', 'permalink...   \n",
       "3   games_video  [{'competitor': {'name': 'Ustream', 'permalink...   \n",
       "4        mobile                                                 []   \n",
       "\n",
       "                     created_at  ...  \\\n",
       "0  Thu May 31 19:52:34 UTC 2007  ...   \n",
       "1  Sat Jun 09 07:05:30 UTC 2007  ...   \n",
       "2  Thu Jun 14 03:42:20 UTC 2007  ...   \n",
       "3  Thu Jun 14 18:26:11 UTC 2007  ...   \n",
       "4  Sat Jun 16 05:53:38 UTC 2007  ...   \n",
       "\n",
       "                                            products  \\\n",
       "0            [{'name': 'Geni', 'permalink': 'geni'}]   \n",
       "1          [{'name': 'Joost', 'permalink': 'joost'}]   \n",
       "2        [{'name': 'Mahalo', 'permalink': 'mahalo'}]   \n",
       "3  [{'name': 'Kyte', 'permalink': 'kyte'}, {'name...   \n",
       "4  [{'name': 'MyFree411', 'permalink': 'myfree411'}]   \n",
       "\n",
       "                                       providerships  \\\n",
       "0                                                 []   \n",
       "1                                                 []   \n",
       "2                                                 []   \n",
       "3                                                 []   \n",
       "4  [{'title': 'Public Relations', 'is_past': Fals...   \n",
       "\n",
       "                                       relationships screenshots  \\\n",
       "0  [{'is_past': False, 'title': 'CEO', 'person': ...          []   \n",
       "1  [{'is_past': False, 'title': 'CEO', 'person': ...          []   \n",
       "2  [{'is_past': False, 'title': 'Founder, CEO', '...          []   \n",
       "3  [{'is_past': False, 'title': 'CTO and co-found...          []   \n",
       "4  [{'is_past': False, 'title': 'Founder and CTO'...          []   \n",
       "\n",
       "                                            tag_list total_money_raised  \\\n",
       "0         geni, geneology, social, family, genealogy             $16.5M   \n",
       "1  iptv, babelgum, television, video, thevenicepr...               $45M   \n",
       "2   search, search-engine, human-powered-search, aaa               $21M   \n",
       "3  video, mobile, iphone-app, video-platform, mob...             $23.4M   \n",
       "4           directoryassistance, advertising, mobile             $88.7M   \n",
       "\n",
       "  twitter_username                    updated_at  \\\n",
       "0             geni  Wed Oct 10 14:01:29 UTC 2012   \n",
       "1             None  Fri Mar 15 23:31:11 UTC 2013   \n",
       "2     MahaloDotCom  Fri May 17 04:34:19 UTC 2013   \n",
       "3             kyte  Mon Oct 28 09:34:37 UTC 2013   \n",
       "4          Marchex  Mon Jun 03 05:26:22 UTC 2013   \n",
       "\n",
       "                                        video_embeds  \\\n",
       "0  [{'embed_code': '<object width=\"425\" height=\"3...   \n",
       "1  [{'embed_code': '<object width=\"425\" height=\"3...   \n",
       "2  [{'embed_code': '<embed src=\"http://blip.tv/pl...   \n",
       "3  [{'embed_code': '<embed src=\"http://blip.tv/pl...   \n",
       "4                                                 []   \n",
       "\n",
       "   total_money_raised_normalized_USD  \n",
       "0                         16500000.0  \n",
       "1                         45000000.0  \n",
       "2                         21000000.0  \n",
       "3                         23400000.0  \n",
       "4                         88700000.0  \n",
       "\n",
       "[5 rows x 44 columns]"
      ]
     },
     "execution_count": 399,
     "metadata": {},
     "output_type": "execute_result"
    }
   ],
   "source": [
    "companies_with_coord.head()"
   ]
  },
  {
   "cell_type": "code",
   "execution_count": 400,
   "metadata": {},
   "outputs": [],
   "source": [
    "companies_with_coord_offices= companies_with_coord2.merge(companies_with_coord, how='left', on='index')"
   ]
  },
  {
   "cell_type": "code",
   "execution_count": 401,
   "metadata": {},
   "outputs": [
    {
     "data": {
      "text/plain": [
       "Index(['index', 'office', '_id', 'acquisition', 'acquisitions', 'alias_list',\n",
       "       'blog_feed_url', 'blog_url', 'category_code', 'competitions',\n",
       "       'created_at', 'crunchbase_url', 'deadpooled_day', 'deadpooled_month',\n",
       "       'deadpooled_url', 'deadpooled_year', 'description', 'email_address',\n",
       "       'external_links', 'founded_day', 'founded_month', 'founded_year',\n",
       "       'funding_rounds', 'homepage_url', 'image', 'investments', 'ipo',\n",
       "       'milestones', 'name', 'number_of_employees', 'offices', 'overview',\n",
       "       'partners', 'permalink', 'phone_number', 'products', 'providerships',\n",
       "       'relationships', 'screenshots', 'tag_list', 'total_money_raised',\n",
       "       'twitter_username', 'updated_at', 'video_embeds',\n",
       "       'total_money_raised_normalized_USD'],\n",
       "      dtype='object')"
      ]
     },
     "execution_count": 401,
     "metadata": {},
     "output_type": "execute_result"
    }
   ],
   "source": [
    "companies_with_coord_offices.columns"
   ]
  },
  {
   "cell_type": "code",
   "execution_count": 402,
   "metadata": {},
   "outputs": [],
   "source": [
    "def getFirst(data):\n",
    "    data = data['office']\n",
    "#    return (len(data),data[0]['latitude'],data[0]['longitude'])\n",
    "\n",
    "    # Only create the geoJSON object if all geodata is available\n",
    "    principal = None\n",
    "    if data['latitude'] and data['longitude']:\n",
    "        principal = {\n",
    "            \"type\":\"Point\",\n",
    "            \"coordinates\":[data['longitude'], data['latitude']]\n",
    "        }\n",
    "\n",
    "    return {\n",
    "        \"lat\": data['latitude'],\n",
    "        \"lng\": data['longitude'],\n",
    "        \"oficina_principal\": principal\n",
    "    }"
   ]
  },
  {
   "cell_type": "code",
   "execution_count": 403,
   "metadata": {},
   "outputs": [],
   "source": [
    "companies_with_coord_offices_sub = companies_with_coord_offices[[\"office\"]].apply(getFirst, result_type=\"expand\", axis=1)"
   ]
  },
  {
   "cell_type": "code",
   "execution_count": 404,
   "metadata": {},
   "outputs": [
    {
     "data": {
      "text/html": [
       "<div>\n",
       "<style scoped>\n",
       "    .dataframe tbody tr th:only-of-type {\n",
       "        vertical-align: middle;\n",
       "    }\n",
       "\n",
       "    .dataframe tbody tr th {\n",
       "        vertical-align: top;\n",
       "    }\n",
       "\n",
       "    .dataframe thead th {\n",
       "        text-align: right;\n",
       "    }\n",
       "</style>\n",
       "<table border=\"1\" class=\"dataframe\">\n",
       "  <thead>\n",
       "    <tr style=\"text-align: right;\">\n",
       "      <th></th>\n",
       "      <th>lat</th>\n",
       "      <th>lng</th>\n",
       "      <th>oficina_principal</th>\n",
       "    </tr>\n",
       "  </thead>\n",
       "  <tbody>\n",
       "    <tr>\n",
       "      <th>0</th>\n",
       "      <td>34.090368</td>\n",
       "      <td>-118.393064</td>\n",
       "      <td>{'type': 'Point', 'coordinates': [-118.393064,...</td>\n",
       "    </tr>\n",
       "    <tr>\n",
       "      <th>1</th>\n",
       "      <td>40.746497</td>\n",
       "      <td>-74.009447</td>\n",
       "      <td>{'type': 'Point', 'coordinates': [-74.0094471,...</td>\n",
       "    </tr>\n",
       "    <tr>\n",
       "      <th>2</th>\n",
       "      <td>34.017606</td>\n",
       "      <td>-118.487267</td>\n",
       "      <td>{'type': 'Point', 'coordinates': [-118.487267,...</td>\n",
       "    </tr>\n",
       "    <tr>\n",
       "      <th>3</th>\n",
       "      <td>37.788482</td>\n",
       "      <td>-122.409173</td>\n",
       "      <td>{'type': 'Point', 'coordinates': [-122.409173,...</td>\n",
       "    </tr>\n",
       "    <tr>\n",
       "      <th>4</th>\n",
       "      <td>37.480999</td>\n",
       "      <td>-122.173887</td>\n",
       "      <td>{'type': 'Point', 'coordinates': [-122.173887,...</td>\n",
       "    </tr>\n",
       "  </tbody>\n",
       "</table>\n",
       "</div>"
      ],
      "text/plain": [
       "         lat         lng                                  oficina_principal\n",
       "0  34.090368 -118.393064  {'type': 'Point', 'coordinates': [-118.393064,...\n",
       "1  40.746497  -74.009447  {'type': 'Point', 'coordinates': [-74.0094471,...\n",
       "2  34.017606 -118.487267  {'type': 'Point', 'coordinates': [-118.487267,...\n",
       "3  37.788482 -122.409173  {'type': 'Point', 'coordinates': [-122.409173,...\n",
       "4  37.480999 -122.173887  {'type': 'Point', 'coordinates': [-122.173887,..."
      ]
     },
     "execution_count": 404,
     "metadata": {},
     "output_type": "execute_result"
    }
   ],
   "source": [
    "companies_with_coord_offices_sub.head()"
   ]
  },
  {
   "cell_type": "code",
   "execution_count": 405,
   "metadata": {},
   "outputs": [],
   "source": [
    "companies_with_coord_offices_clean = pd.concat([companies_with_coord_offices,companies_with_coord_offices_sub], axis=1)"
   ]
  },
  {
   "cell_type": "code",
   "execution_count": 406,
   "metadata": {},
   "outputs": [
    {
     "data": {
      "text/html": [
       "<div>\n",
       "<style scoped>\n",
       "    .dataframe tbody tr th:only-of-type {\n",
       "        vertical-align: middle;\n",
       "    }\n",
       "\n",
       "    .dataframe tbody tr th {\n",
       "        vertical-align: top;\n",
       "    }\n",
       "\n",
       "    .dataframe thead th {\n",
       "        text-align: right;\n",
       "    }\n",
       "</style>\n",
       "<table border=\"1\" class=\"dataframe\">\n",
       "  <thead>\n",
       "    <tr style=\"text-align: right;\">\n",
       "      <th></th>\n",
       "      <th>index</th>\n",
       "      <th>office</th>\n",
       "      <th>_id</th>\n",
       "      <th>acquisition</th>\n",
       "      <th>acquisitions</th>\n",
       "      <th>alias_list</th>\n",
       "      <th>blog_feed_url</th>\n",
       "      <th>blog_url</th>\n",
       "      <th>category_code</th>\n",
       "      <th>competitions</th>\n",
       "      <th>...</th>\n",
       "      <th>screenshots</th>\n",
       "      <th>tag_list</th>\n",
       "      <th>total_money_raised</th>\n",
       "      <th>twitter_username</th>\n",
       "      <th>updated_at</th>\n",
       "      <th>video_embeds</th>\n",
       "      <th>total_money_raised_normalized_USD</th>\n",
       "      <th>lat</th>\n",
       "      <th>lng</th>\n",
       "      <th>oficina_principal</th>\n",
       "    </tr>\n",
       "  </thead>\n",
       "  <tbody>\n",
       "    <tr>\n",
       "      <th>0</th>\n",
       "      <td>0</td>\n",
       "      <td>{'description': 'Headquarters', 'address1': '9...</td>\n",
       "      <td>52cdef7c4bab8bd675297d91</td>\n",
       "      <td>{'price_amount': None, 'price_currency_code': ...</td>\n",
       "      <td>[]</td>\n",
       "      <td></td>\n",
       "      <td>http://blog.geni.com/index.rdf</td>\n",
       "      <td>http://blog.geni.com</td>\n",
       "      <td>web</td>\n",
       "      <td>[{'competitor': {'name': 'Ancestry', 'permalin...</td>\n",
       "      <td>...</td>\n",
       "      <td>[]</td>\n",
       "      <td>geni, geneology, social, family, genealogy</td>\n",
       "      <td>$16.5M</td>\n",
       "      <td>geni</td>\n",
       "      <td>Wed Oct 10 14:01:29 UTC 2012</td>\n",
       "      <td>[{'embed_code': '&lt;object width=\"425\" height=\"3...</td>\n",
       "      <td>16500000.0</td>\n",
       "      <td>34.090368</td>\n",
       "      <td>-118.393064</td>\n",
       "      <td>{'type': 'Point', 'coordinates': [-118.393064,...</td>\n",
       "    </tr>\n",
       "    <tr>\n",
       "      <th>1</th>\n",
       "      <td>1</td>\n",
       "      <td>{'description': '', 'address1': '100 5th Ave F...</td>\n",
       "      <td>52cdef7c4bab8bd675297d9d</td>\n",
       "      <td>{'price_amount': None, 'price_currency_code': ...</td>\n",
       "      <td>[]</td>\n",
       "      <td>None</td>\n",
       "      <td>http://blog.joost.com/atom.xml</td>\n",
       "      <td>http://blog.joost.com</td>\n",
       "      <td>games_video</td>\n",
       "      <td>[{'competitor': {'name': 'Babelgum', 'permalin...</td>\n",
       "      <td>...</td>\n",
       "      <td>[]</td>\n",
       "      <td>iptv, babelgum, television, video, thevenicepr...</td>\n",
       "      <td>$45M</td>\n",
       "      <td>None</td>\n",
       "      <td>Fri Mar 15 23:31:11 UTC 2013</td>\n",
       "      <td>[{'embed_code': '&lt;object width=\"425\" height=\"3...</td>\n",
       "      <td>45000000.0</td>\n",
       "      <td>40.746497</td>\n",
       "      <td>-74.009447</td>\n",
       "      <td>{'type': 'Point', 'coordinates': [-74.0094471,...</td>\n",
       "    </tr>\n",
       "    <tr>\n",
       "      <th>2</th>\n",
       "      <td>2</td>\n",
       "      <td>{'description': '', 'address1': '3525 Eastham ...</td>\n",
       "      <td>52cdef7c4bab8bd675297da9</td>\n",
       "      <td>None</td>\n",
       "      <td>[]</td>\n",
       "      <td></td>\n",
       "      <td>http://blog.mahalo.com/feed/</td>\n",
       "      <td>http://blog.mahalo.com/</td>\n",
       "      <td>web</td>\n",
       "      <td>[{'competitor': {'name': 'Topicle', 'permalink...</td>\n",
       "      <td>...</td>\n",
       "      <td>[]</td>\n",
       "      <td>search, search-engine, human-powered-search, aaa</td>\n",
       "      <td>$21M</td>\n",
       "      <td>MahaloDotCom</td>\n",
       "      <td>Fri May 17 04:34:19 UTC 2013</td>\n",
       "      <td>[{'embed_code': '&lt;embed src=\"http://blip.tv/pl...</td>\n",
       "      <td>21000000.0</td>\n",
       "      <td>34.017606</td>\n",
       "      <td>-118.487267</td>\n",
       "      <td>{'type': 'Point', 'coordinates': [-118.487267,...</td>\n",
       "    </tr>\n",
       "    <tr>\n",
       "      <th>3</th>\n",
       "      <td>3</td>\n",
       "      <td>{'description': None, 'address1': '442 Post St...</td>\n",
       "      <td>52cdef7c4bab8bd675297dab</td>\n",
       "      <td>{'price_amount': None, 'price_currency_code': ...</td>\n",
       "      <td>[]</td>\n",
       "      <td></td>\n",
       "      <td>http://feeds.feedburner.com/kyte_blog</td>\n",
       "      <td>http://kyte.com/blog</td>\n",
       "      <td>games_video</td>\n",
       "      <td>[{'competitor': {'name': 'Ustream', 'permalink...</td>\n",
       "      <td>...</td>\n",
       "      <td>[]</td>\n",
       "      <td>video, mobile, iphone-app, video-platform, mob...</td>\n",
       "      <td>$23.4M</td>\n",
       "      <td>kyte</td>\n",
       "      <td>Mon Oct 28 09:34:37 UTC 2013</td>\n",
       "      <td>[{'embed_code': '&lt;embed src=\"http://blip.tv/pl...</td>\n",
       "      <td>23400000.0</td>\n",
       "      <td>37.788482</td>\n",
       "      <td>-122.409173</td>\n",
       "      <td>{'type': 'Point', 'coordinates': [-122.409173,...</td>\n",
       "    </tr>\n",
       "    <tr>\n",
       "      <th>4</th>\n",
       "      <td>4</td>\n",
       "      <td>{'description': '', 'address1': '475 Park Ave ...</td>\n",
       "      <td>52cdef7c4bab8bd675297daf</td>\n",
       "      <td>{'price_amount': 62500000, 'price_currency_cod...</td>\n",
       "      <td>[]</td>\n",
       "      <td></td>\n",
       "      <td></td>\n",
       "      <td></td>\n",
       "      <td>mobile</td>\n",
       "      <td>[]</td>\n",
       "      <td>...</td>\n",
       "      <td>[]</td>\n",
       "      <td>directoryassistance, advertising, mobile</td>\n",
       "      <td>$88.7M</td>\n",
       "      <td>Marchex</td>\n",
       "      <td>Mon Jun 03 05:26:22 UTC 2013</td>\n",
       "      <td>[]</td>\n",
       "      <td>88700000.0</td>\n",
       "      <td>37.480999</td>\n",
       "      <td>-122.173887</td>\n",
       "      <td>{'type': 'Point', 'coordinates': [-122.173887,...</td>\n",
       "    </tr>\n",
       "  </tbody>\n",
       "</table>\n",
       "<p>5 rows × 48 columns</p>\n",
       "</div>"
      ],
      "text/plain": [
       "   index                                             office  \\\n",
       "0      0  {'description': 'Headquarters', 'address1': '9...   \n",
       "1      1  {'description': '', 'address1': '100 5th Ave F...   \n",
       "2      2  {'description': '', 'address1': '3525 Eastham ...   \n",
       "3      3  {'description': None, 'address1': '442 Post St...   \n",
       "4      4  {'description': '', 'address1': '475 Park Ave ...   \n",
       "\n",
       "                        _id  \\\n",
       "0  52cdef7c4bab8bd675297d91   \n",
       "1  52cdef7c4bab8bd675297d9d   \n",
       "2  52cdef7c4bab8bd675297da9   \n",
       "3  52cdef7c4bab8bd675297dab   \n",
       "4  52cdef7c4bab8bd675297daf   \n",
       "\n",
       "                                         acquisition acquisitions alias_list  \\\n",
       "0  {'price_amount': None, 'price_currency_code': ...           []              \n",
       "1  {'price_amount': None, 'price_currency_code': ...           []       None   \n",
       "2                                               None           []              \n",
       "3  {'price_amount': None, 'price_currency_code': ...           []              \n",
       "4  {'price_amount': 62500000, 'price_currency_cod...           []              \n",
       "\n",
       "                           blog_feed_url                 blog_url  \\\n",
       "0         http://blog.geni.com/index.rdf     http://blog.geni.com   \n",
       "1         http://blog.joost.com/atom.xml    http://blog.joost.com   \n",
       "2           http://blog.mahalo.com/feed/  http://blog.mahalo.com/   \n",
       "3  http://feeds.feedburner.com/kyte_blog     http://kyte.com/blog   \n",
       "4                                                                   \n",
       "\n",
       "  category_code                                       competitions  ...  \\\n",
       "0           web  [{'competitor': {'name': 'Ancestry', 'permalin...  ...   \n",
       "1   games_video  [{'competitor': {'name': 'Babelgum', 'permalin...  ...   \n",
       "2           web  [{'competitor': {'name': 'Topicle', 'permalink...  ...   \n",
       "3   games_video  [{'competitor': {'name': 'Ustream', 'permalink...  ...   \n",
       "4        mobile                                                 []  ...   \n",
       "\n",
       "  screenshots                                           tag_list  \\\n",
       "0          []         geni, geneology, social, family, genealogy   \n",
       "1          []  iptv, babelgum, television, video, thevenicepr...   \n",
       "2          []   search, search-engine, human-powered-search, aaa   \n",
       "3          []  video, mobile, iphone-app, video-platform, mob...   \n",
       "4          []           directoryassistance, advertising, mobile   \n",
       "\n",
       "  total_money_raised twitter_username                    updated_at  \\\n",
       "0             $16.5M             geni  Wed Oct 10 14:01:29 UTC 2012   \n",
       "1               $45M             None  Fri Mar 15 23:31:11 UTC 2013   \n",
       "2               $21M     MahaloDotCom  Fri May 17 04:34:19 UTC 2013   \n",
       "3             $23.4M             kyte  Mon Oct 28 09:34:37 UTC 2013   \n",
       "4             $88.7M          Marchex  Mon Jun 03 05:26:22 UTC 2013   \n",
       "\n",
       "                                        video_embeds  \\\n",
       "0  [{'embed_code': '<object width=\"425\" height=\"3...   \n",
       "1  [{'embed_code': '<object width=\"425\" height=\"3...   \n",
       "2  [{'embed_code': '<embed src=\"http://blip.tv/pl...   \n",
       "3  [{'embed_code': '<embed src=\"http://blip.tv/pl...   \n",
       "4                                                 []   \n",
       "\n",
       "  total_money_raised_normalized_USD        lat         lng  \\\n",
       "0                        16500000.0  34.090368 -118.393064   \n",
       "1                        45000000.0  40.746497  -74.009447   \n",
       "2                        21000000.0  34.017606 -118.487267   \n",
       "3                        23400000.0  37.788482 -122.409173   \n",
       "4                        88700000.0  37.480999 -122.173887   \n",
       "\n",
       "                                   oficina_principal  \n",
       "0  {'type': 'Point', 'coordinates': [-118.393064,...  \n",
       "1  {'type': 'Point', 'coordinates': [-74.0094471,...  \n",
       "2  {'type': 'Point', 'coordinates': [-118.487267,...  \n",
       "3  {'type': 'Point', 'coordinates': [-122.409173,...  \n",
       "4  {'type': 'Point', 'coordinates': [-122.173887,...  \n",
       "\n",
       "[5 rows x 48 columns]"
      ]
     },
     "execution_count": 406,
     "metadata": {},
     "output_type": "execute_result"
    }
   ],
   "source": [
    "companies_with_coord_offices_clean.head()"
   ]
  },
  {
   "cell_type": "code",
   "execution_count": null,
   "metadata": {},
   "outputs": [],
   "source": []
  },
  {
   "cell_type": "code",
   "execution_count": 407,
   "metadata": {},
   "outputs": [],
   "source": [
    "companies_with_coord_offices_clean_final = companies_with_coord_offices_clean.drop(columns=['index','alias_list','blog_feed_url','blog_url','crunchbase_url','deadpooled_url','external_links','homepage_url','image','offices','permalink','twitter_username','video_embeds'])"
   ]
  },
  {
   "cell_type": "code",
   "execution_count": 408,
   "metadata": {},
   "outputs": [],
   "source": [
    "companies_with_coord_offices_clean_final = companies_with_coord_offices_clean.drop(columns=['_id'])"
   ]
  },
  {
   "cell_type": "code",
   "execution_count": 409,
   "metadata": {},
   "outputs": [
    {
     "data": {
      "text/html": [
       "<div>\n",
       "<style scoped>\n",
       "    .dataframe tbody tr th:only-of-type {\n",
       "        vertical-align: middle;\n",
       "    }\n",
       "\n",
       "    .dataframe tbody tr th {\n",
       "        vertical-align: top;\n",
       "    }\n",
       "\n",
       "    .dataframe thead th {\n",
       "        text-align: right;\n",
       "    }\n",
       "</style>\n",
       "<table border=\"1\" class=\"dataframe\">\n",
       "  <thead>\n",
       "    <tr style=\"text-align: right;\">\n",
       "      <th></th>\n",
       "      <th>index</th>\n",
       "      <th>office</th>\n",
       "      <th>acquisition</th>\n",
       "      <th>acquisitions</th>\n",
       "      <th>alias_list</th>\n",
       "      <th>blog_feed_url</th>\n",
       "      <th>blog_url</th>\n",
       "      <th>category_code</th>\n",
       "      <th>competitions</th>\n",
       "      <th>created_at</th>\n",
       "      <th>...</th>\n",
       "      <th>screenshots</th>\n",
       "      <th>tag_list</th>\n",
       "      <th>total_money_raised</th>\n",
       "      <th>twitter_username</th>\n",
       "      <th>updated_at</th>\n",
       "      <th>video_embeds</th>\n",
       "      <th>total_money_raised_normalized_USD</th>\n",
       "      <th>lat</th>\n",
       "      <th>lng</th>\n",
       "      <th>oficina_principal</th>\n",
       "    </tr>\n",
       "  </thead>\n",
       "  <tbody>\n",
       "    <tr>\n",
       "      <th>0</th>\n",
       "      <td>0</td>\n",
       "      <td>{'description': 'Headquarters', 'address1': '9...</td>\n",
       "      <td>{'price_amount': None, 'price_currency_code': ...</td>\n",
       "      <td>[]</td>\n",
       "      <td></td>\n",
       "      <td>http://blog.geni.com/index.rdf</td>\n",
       "      <td>http://blog.geni.com</td>\n",
       "      <td>web</td>\n",
       "      <td>[{'competitor': {'name': 'Ancestry', 'permalin...</td>\n",
       "      <td>Thu May 31 19:52:34 UTC 2007</td>\n",
       "      <td>...</td>\n",
       "      <td>[]</td>\n",
       "      <td>geni, geneology, social, family, genealogy</td>\n",
       "      <td>$16.5M</td>\n",
       "      <td>geni</td>\n",
       "      <td>Wed Oct 10 14:01:29 UTC 2012</td>\n",
       "      <td>[{'embed_code': '&lt;object width=\"425\" height=\"3...</td>\n",
       "      <td>16500000.0</td>\n",
       "      <td>34.090368</td>\n",
       "      <td>-118.393064</td>\n",
       "      <td>{'type': 'Point', 'coordinates': [-118.393064,...</td>\n",
       "    </tr>\n",
       "    <tr>\n",
       "      <th>1</th>\n",
       "      <td>1</td>\n",
       "      <td>{'description': '', 'address1': '100 5th Ave F...</td>\n",
       "      <td>{'price_amount': None, 'price_currency_code': ...</td>\n",
       "      <td>[]</td>\n",
       "      <td>None</td>\n",
       "      <td>http://blog.joost.com/atom.xml</td>\n",
       "      <td>http://blog.joost.com</td>\n",
       "      <td>games_video</td>\n",
       "      <td>[{'competitor': {'name': 'Babelgum', 'permalin...</td>\n",
       "      <td>Sat Jun 09 07:05:30 UTC 2007</td>\n",
       "      <td>...</td>\n",
       "      <td>[]</td>\n",
       "      <td>iptv, babelgum, television, video, thevenicepr...</td>\n",
       "      <td>$45M</td>\n",
       "      <td>None</td>\n",
       "      <td>Fri Mar 15 23:31:11 UTC 2013</td>\n",
       "      <td>[{'embed_code': '&lt;object width=\"425\" height=\"3...</td>\n",
       "      <td>45000000.0</td>\n",
       "      <td>40.746497</td>\n",
       "      <td>-74.009447</td>\n",
       "      <td>{'type': 'Point', 'coordinates': [-74.0094471,...</td>\n",
       "    </tr>\n",
       "    <tr>\n",
       "      <th>2</th>\n",
       "      <td>2</td>\n",
       "      <td>{'description': '', 'address1': '3525 Eastham ...</td>\n",
       "      <td>None</td>\n",
       "      <td>[]</td>\n",
       "      <td></td>\n",
       "      <td>http://blog.mahalo.com/feed/</td>\n",
       "      <td>http://blog.mahalo.com/</td>\n",
       "      <td>web</td>\n",
       "      <td>[{'competitor': {'name': 'Topicle', 'permalink...</td>\n",
       "      <td>Thu Jun 14 03:42:20 UTC 2007</td>\n",
       "      <td>...</td>\n",
       "      <td>[]</td>\n",
       "      <td>search, search-engine, human-powered-search, aaa</td>\n",
       "      <td>$21M</td>\n",
       "      <td>MahaloDotCom</td>\n",
       "      <td>Fri May 17 04:34:19 UTC 2013</td>\n",
       "      <td>[{'embed_code': '&lt;embed src=\"http://blip.tv/pl...</td>\n",
       "      <td>21000000.0</td>\n",
       "      <td>34.017606</td>\n",
       "      <td>-118.487267</td>\n",
       "      <td>{'type': 'Point', 'coordinates': [-118.487267,...</td>\n",
       "    </tr>\n",
       "    <tr>\n",
       "      <th>3</th>\n",
       "      <td>3</td>\n",
       "      <td>{'description': None, 'address1': '442 Post St...</td>\n",
       "      <td>{'price_amount': None, 'price_currency_code': ...</td>\n",
       "      <td>[]</td>\n",
       "      <td></td>\n",
       "      <td>http://feeds.feedburner.com/kyte_blog</td>\n",
       "      <td>http://kyte.com/blog</td>\n",
       "      <td>games_video</td>\n",
       "      <td>[{'competitor': {'name': 'Ustream', 'permalink...</td>\n",
       "      <td>Thu Jun 14 18:26:11 UTC 2007</td>\n",
       "      <td>...</td>\n",
       "      <td>[]</td>\n",
       "      <td>video, mobile, iphone-app, video-platform, mob...</td>\n",
       "      <td>$23.4M</td>\n",
       "      <td>kyte</td>\n",
       "      <td>Mon Oct 28 09:34:37 UTC 2013</td>\n",
       "      <td>[{'embed_code': '&lt;embed src=\"http://blip.tv/pl...</td>\n",
       "      <td>23400000.0</td>\n",
       "      <td>37.788482</td>\n",
       "      <td>-122.409173</td>\n",
       "      <td>{'type': 'Point', 'coordinates': [-122.409173,...</td>\n",
       "    </tr>\n",
       "    <tr>\n",
       "      <th>4</th>\n",
       "      <td>4</td>\n",
       "      <td>{'description': '', 'address1': '475 Park Ave ...</td>\n",
       "      <td>{'price_amount': 62500000, 'price_currency_cod...</td>\n",
       "      <td>[]</td>\n",
       "      <td></td>\n",
       "      <td></td>\n",
       "      <td></td>\n",
       "      <td>mobile</td>\n",
       "      <td>[]</td>\n",
       "      <td>Sat Jun 16 05:53:38 UTC 2007</td>\n",
       "      <td>...</td>\n",
       "      <td>[]</td>\n",
       "      <td>directoryassistance, advertising, mobile</td>\n",
       "      <td>$88.7M</td>\n",
       "      <td>Marchex</td>\n",
       "      <td>Mon Jun 03 05:26:22 UTC 2013</td>\n",
       "      <td>[]</td>\n",
       "      <td>88700000.0</td>\n",
       "      <td>37.480999</td>\n",
       "      <td>-122.173887</td>\n",
       "      <td>{'type': 'Point', 'coordinates': [-122.173887,...</td>\n",
       "    </tr>\n",
       "  </tbody>\n",
       "</table>\n",
       "<p>5 rows × 47 columns</p>\n",
       "</div>"
      ],
      "text/plain": [
       "   index                                             office  \\\n",
       "0      0  {'description': 'Headquarters', 'address1': '9...   \n",
       "1      1  {'description': '', 'address1': '100 5th Ave F...   \n",
       "2      2  {'description': '', 'address1': '3525 Eastham ...   \n",
       "3      3  {'description': None, 'address1': '442 Post St...   \n",
       "4      4  {'description': '', 'address1': '475 Park Ave ...   \n",
       "\n",
       "                                         acquisition acquisitions alias_list  \\\n",
       "0  {'price_amount': None, 'price_currency_code': ...           []              \n",
       "1  {'price_amount': None, 'price_currency_code': ...           []       None   \n",
       "2                                               None           []              \n",
       "3  {'price_amount': None, 'price_currency_code': ...           []              \n",
       "4  {'price_amount': 62500000, 'price_currency_cod...           []              \n",
       "\n",
       "                           blog_feed_url                 blog_url  \\\n",
       "0         http://blog.geni.com/index.rdf     http://blog.geni.com   \n",
       "1         http://blog.joost.com/atom.xml    http://blog.joost.com   \n",
       "2           http://blog.mahalo.com/feed/  http://blog.mahalo.com/   \n",
       "3  http://feeds.feedburner.com/kyte_blog     http://kyte.com/blog   \n",
       "4                                                                   \n",
       "\n",
       "  category_code                                       competitions  \\\n",
       "0           web  [{'competitor': {'name': 'Ancestry', 'permalin...   \n",
       "1   games_video  [{'competitor': {'name': 'Babelgum', 'permalin...   \n",
       "2           web  [{'competitor': {'name': 'Topicle', 'permalink...   \n",
       "3   games_video  [{'competitor': {'name': 'Ustream', 'permalink...   \n",
       "4        mobile                                                 []   \n",
       "\n",
       "                     created_at  ... screenshots  \\\n",
       "0  Thu May 31 19:52:34 UTC 2007  ...          []   \n",
       "1  Sat Jun 09 07:05:30 UTC 2007  ...          []   \n",
       "2  Thu Jun 14 03:42:20 UTC 2007  ...          []   \n",
       "3  Thu Jun 14 18:26:11 UTC 2007  ...          []   \n",
       "4  Sat Jun 16 05:53:38 UTC 2007  ...          []   \n",
       "\n",
       "                                            tag_list total_money_raised  \\\n",
       "0         geni, geneology, social, family, genealogy             $16.5M   \n",
       "1  iptv, babelgum, television, video, thevenicepr...               $45M   \n",
       "2   search, search-engine, human-powered-search, aaa               $21M   \n",
       "3  video, mobile, iphone-app, video-platform, mob...             $23.4M   \n",
       "4           directoryassistance, advertising, mobile             $88.7M   \n",
       "\n",
       "  twitter_username                    updated_at  \\\n",
       "0             geni  Wed Oct 10 14:01:29 UTC 2012   \n",
       "1             None  Fri Mar 15 23:31:11 UTC 2013   \n",
       "2     MahaloDotCom  Fri May 17 04:34:19 UTC 2013   \n",
       "3             kyte  Mon Oct 28 09:34:37 UTC 2013   \n",
       "4          Marchex  Mon Jun 03 05:26:22 UTC 2013   \n",
       "\n",
       "                                        video_embeds  \\\n",
       "0  [{'embed_code': '<object width=\"425\" height=\"3...   \n",
       "1  [{'embed_code': '<object width=\"425\" height=\"3...   \n",
       "2  [{'embed_code': '<embed src=\"http://blip.tv/pl...   \n",
       "3  [{'embed_code': '<embed src=\"http://blip.tv/pl...   \n",
       "4                                                 []   \n",
       "\n",
       "  total_money_raised_normalized_USD        lat         lng  \\\n",
       "0                        16500000.0  34.090368 -118.393064   \n",
       "1                        45000000.0  40.746497  -74.009447   \n",
       "2                        21000000.0  34.017606 -118.487267   \n",
       "3                        23400000.0  37.788482 -122.409173   \n",
       "4                        88700000.0  37.480999 -122.173887   \n",
       "\n",
       "                                   oficina_principal  \n",
       "0  {'type': 'Point', 'coordinates': [-118.393064,...  \n",
       "1  {'type': 'Point', 'coordinates': [-74.0094471,...  \n",
       "2  {'type': 'Point', 'coordinates': [-118.487267,...  \n",
       "3  {'type': 'Point', 'coordinates': [-122.409173,...  \n",
       "4  {'type': 'Point', 'coordinates': [-122.173887,...  \n",
       "\n",
       "[5 rows x 47 columns]"
      ]
     },
     "execution_count": 409,
     "metadata": {},
     "output_type": "execute_result"
    }
   ],
   "source": [
    "companies_with_coord_offices_clean_final.head()"
   ]
  },
  {
   "cell_type": "code",
   "execution_count": 410,
   "metadata": {},
   "outputs": [
    {
     "data": {
      "text/plain": [
       "(2247, 47)"
      ]
     },
     "execution_count": 410,
     "metadata": {},
     "output_type": "execute_result"
    }
   ],
   "source": [
    "companies_with_coord_offices_clean_final.shape"
   ]
  },
  {
   "cell_type": "markdown",
   "metadata": {},
   "source": [
    "## Filtrando por empresas en las que se ha invertido más de 1.000.000 USD"
   ]
  },
  {
   "cell_type": "code",
   "execution_count": 411,
   "metadata": {},
   "outputs": [],
   "source": [
    "companies_with_coord_offices_clean_final_2 = companies_with_coord_offices_clean_final[companies_with_coord_offices_clean_final['total_money_raised_normalized_USD']>=1000000][['index', 'office', 'acquisition','category_code', 'deadpooled_year', 'founded_year','funding_rounds', 'investments', 'ipo', 'name', 'number_of_employees', 'products','total_money_raised_normalized_USD', 'lat', 'lng', 'oficina_principal']]\n",
    "companies_with_coord_offices_clean_final_2.reset_index(inplace=True)"
   ]
  },
  {
   "cell_type": "markdown",
   "metadata": {},
   "source": [
    "## Exportando a JSON"
   ]
  },
  {
   "cell_type": "code",
   "execution_count": 412,
   "metadata": {},
   "outputs": [],
   "source": [
    "companies_with_coord_offices_clean_final_2.to_json('data_clean.json', orient=\"records\")"
   ]
  },
  {
   "cell_type": "markdown",
   "metadata": {},
   "source": [
    "## Exportando a CSV"
   ]
  },
  {
   "cell_type": "code",
   "execution_count": 413,
   "metadata": {},
   "outputs": [],
   "source": [
    "companies_with_coord_offices_clean_final_2.to_csv('data_clean.csv')"
   ]
  },
  {
   "cell_type": "code",
   "execution_count": 414,
   "metadata": {},
   "outputs": [],
   "source": [
    "#mongoimport --db companies --collection offices --jsonArray ./data_clean.json"
   ]
  },
  {
   "cell_type": "code",
   "execution_count": null,
   "metadata": {},
   "outputs": [],
   "source": []
  },
  {
   "cell_type": "markdown",
   "metadata": {},
   "source": [
    "## Geoquery NEAR"
   ]
  },
  {
   "cell_type": "code",
   "execution_count": 415,
   "metadata": {},
   "outputs": [
    {
     "name": "stdout",
     "output_type": "stream",
     "text": [
      "Hay 2 oficinas cerca a 100 metros\n",
      "La mas cercana es\n",
      "[{'_id': ObjectId('5d2b67203a1bc86dcd57c152'), 'index': 2405, 'office': {'description': 'SpaBooker Head Office', 'address1': '22 Cortlandt St Floor 18', 'address2': '', 'zip_code': '10007', 'city': 'New York', 'state_code': 'NY', 'country_code': 'USA', 'latitude': 40.738567, 'longitude': -73.987199}, 'acquisition': {'price_amount': None, 'price_currency_code': 'USD', 'term_code': 'stock', 'source_url': 'http://www.spabookerblog.com/2010/11/gramercyone-launched-to-grow-booker.html', 'source_description': 'SpaBooker Blog', 'acquired_year': 2010, 'acquired_month': 10, 'acquired_day': 1, 'acquiring_company': {'name': 'Booker', 'permalink': 'booker-software'}}, 'category_code': 'software', 'deadpooled_year': None, 'founded_year': 2007, 'funding_rounds': [{'id': 10391, 'round_code': 'a', 'source_url': '', 'source_description': '', 'raised_amount': 14500000, 'raised_currency_code': 'USD', 'funded_year': 2011, 'funded_month': 10, 'funded_day': None, 'investments': [{'company': None, 'financial_org': {'name': 'Grotech Ventures', 'permalink': 'grotech-ventures'}, 'person': None}, {'company': {'name': 'HylioSoft', 'permalink': 'hyliosoft'}, 'financial_org': None, 'person': None}, {'company': None, 'financial_org': {'name': 'TDF Fund (Telecommunications Development Fund)', 'permalink': 'tdf-fund-telecommunications-development'}, 'person': None}, {'company': {'name': 'Jubilee Investments', 'permalink': 'jubilee-investments'}, 'financial_org': None, 'person': None}]}, {'id': 47284, 'round_code': 'seed', 'source_url': '', 'source_description': '', 'raised_amount': 200000, 'raised_currency_code': 'USD', 'funded_year': 2008, 'funded_month': 1, 'funded_day': None, 'investments': []}], 'investments': [], 'ipo': None, 'name': 'SpaBooker', 'number_of_employees': 42.0, 'products': [{'name': 'SpaBooker, SalonBooker', 'permalink': 'spabooker-salonbooker'}], 'total_money_raised_normalized_USD': 14700000.0, 'lat': 40.738567, 'lng': -73.987199, 'oficina_principal': {'type': 'Point', 'coordinates': [-73.987199, 40.738567]}}]\n"
     ]
    },
    {
     "name": "stderr",
     "output_type": "stream",
     "text": [
      "/Users/molins/anaconda3/envs/ironhack/lib/python3.7/site-packages/ipykernel_launcher.py:18: DeprecationWarning: count is deprecated. Use Collection.count_documents instead.\n"
     ]
    }
   ],
   "source": [
    "def findNear(geopoint, radio_max_meters=1000):\n",
    "    return db.offices.find({\n",
    "        \"oficina_principal\": {\n",
    "         \"$near\": {\n",
    "           \"$geometry\": geopoint,\n",
    "           \"$maxDistance\": radio_max_meters,\n",
    "         }\n",
    "       }\n",
    "    })\n",
    "\n",
    "\n",
    "# https://developers.google.com/maps/documentation/geocoding/intro\n",
    "park_avenue_con_21_street = {\n",
    "    \"type\":\"Point\",\n",
    "    \"coordinates\":[-73.987308,40.738935]\n",
    "}\n",
    "radio_max_meters = 100\n",
    "num_offices = findNear(park_avenue_con_21_street, radio_max_meters).count()\n",
    "\n",
    "print(f\"Hay {num_offices} oficinas cerca a {radio_max_meters} metros\")\n",
    "print(\"La mas cercana es\")\n",
    "print(list(findNear(park_avenue_con_21_street, radio_max_meters).limit(1)))"
   ]
  },
  {
   "cell_type": "code",
   "execution_count": 416,
   "metadata": {},
   "outputs": [
    {
     "data": {
      "text/html": [
       "<div style=\"width:100%;\"><div style=\"position:relative;width:100%;height:0;padding-bottom:60%;\"><iframe src=\"data:text/html;charset=utf-8;base64,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\" style=\"position:absolute;width:100%;height:100%;left:0;top:0;border:none !important;\" allowfullscreen webkitallowfullscreen mozallowfullscreen></iframe></div></div>"
      ],
      "text/plain": [
       "<folium.folium.Map at 0x116529b00>"
      ]
     },
     "execution_count": 416,
     "metadata": {},
     "output_type": "execute_result"
    }
   ],
   "source": [
    "mapa = folium.Map(location=[40, -45], zoom_start=2.5)\n",
    "latlng = companies_with_coord_offices_clean_final_2[['lat', 'lng']].values\n",
    "mapa.add_child(plugins.HeatMap(latlng, radius=20))\n",
    "mapa"
   ]
  },
  {
   "cell_type": "code",
   "execution_count": null,
   "metadata": {},
   "outputs": [],
   "source": []
  },
  {
   "cell_type": "code",
   "execution_count": 417,
   "metadata": {},
   "outputs": [
    {
     "data": {
      "text/html": [
       "<div>\n",
       "<style scoped>\n",
       "    .dataframe tbody tr th:only-of-type {\n",
       "        vertical-align: middle;\n",
       "    }\n",
       "\n",
       "    .dataframe tbody tr th {\n",
       "        vertical-align: top;\n",
       "    }\n",
       "\n",
       "    .dataframe thead th {\n",
       "        text-align: right;\n",
       "    }\n",
       "</style>\n",
       "<table border=\"1\" class=\"dataframe\">\n",
       "  <thead>\n",
       "    <tr style=\"text-align: right;\">\n",
       "      <th></th>\n",
       "      <th>level_0</th>\n",
       "      <th>index</th>\n",
       "      <th>office</th>\n",
       "      <th>acquisition</th>\n",
       "      <th>category_code</th>\n",
       "      <th>deadpooled_year</th>\n",
       "      <th>founded_year</th>\n",
       "      <th>funding_rounds</th>\n",
       "      <th>investments</th>\n",
       "      <th>ipo</th>\n",
       "      <th>name</th>\n",
       "      <th>number_of_employees</th>\n",
       "      <th>products</th>\n",
       "      <th>total_money_raised_normalized_USD</th>\n",
       "      <th>lat</th>\n",
       "      <th>lng</th>\n",
       "      <th>oficina_principal</th>\n",
       "    </tr>\n",
       "  </thead>\n",
       "  <tbody>\n",
       "    <tr>\n",
       "      <th>0</th>\n",
       "      <td>0</td>\n",
       "      <td>0</td>\n",
       "      <td>{'description': 'Headquarters', 'address1': '9...</td>\n",
       "      <td>{'price_amount': None, 'price_currency_code': ...</td>\n",
       "      <td>web</td>\n",
       "      <td>None</td>\n",
       "      <td>2006</td>\n",
       "      <td>[{'id': 6, 'round_code': 'a', 'source_url': ''...</td>\n",
       "      <td>[]</td>\n",
       "      <td>None</td>\n",
       "      <td>Geni</td>\n",
       "      <td>18</td>\n",
       "      <td>[{'name': 'Geni', 'permalink': 'geni'}]</td>\n",
       "      <td>16500000.0</td>\n",
       "      <td>34.090368</td>\n",
       "      <td>-118.393064</td>\n",
       "      <td>{'type': 'Point', 'coordinates': [-118.393064,...</td>\n",
       "    </tr>\n",
       "    <tr>\n",
       "      <th>1</th>\n",
       "      <td>1</td>\n",
       "      <td>1</td>\n",
       "      <td>{'description': '', 'address1': '100 5th Ave F...</td>\n",
       "      <td>{'price_amount': None, 'price_currency_code': ...</td>\n",
       "      <td>games_video</td>\n",
       "      <td>None</td>\n",
       "      <td>2006</td>\n",
       "      <td>[{'id': 19, 'round_code': 'a', 'source_url': '...</td>\n",
       "      <td>[]</td>\n",
       "      <td>None</td>\n",
       "      <td>Joost</td>\n",
       "      <td>0</td>\n",
       "      <td>[{'name': 'Joost', 'permalink': 'joost'}]</td>\n",
       "      <td>45000000.0</td>\n",
       "      <td>40.746497</td>\n",
       "      <td>-74.009447</td>\n",
       "      <td>{'type': 'Point', 'coordinates': [-74.0094471,...</td>\n",
       "    </tr>\n",
       "    <tr>\n",
       "      <th>2</th>\n",
       "      <td>2</td>\n",
       "      <td>2</td>\n",
       "      <td>{'description': '', 'address1': '3525 Eastham ...</td>\n",
       "      <td>None</td>\n",
       "      <td>web</td>\n",
       "      <td>None</td>\n",
       "      <td>2007</td>\n",
       "      <td>[{'id': 323, 'round_code': 'a', 'source_url': ...</td>\n",
       "      <td>[]</td>\n",
       "      <td>None</td>\n",
       "      <td>Mahalo</td>\n",
       "      <td>40</td>\n",
       "      <td>[{'name': 'Mahalo', 'permalink': 'mahalo'}]</td>\n",
       "      <td>21000000.0</td>\n",
       "      <td>34.017606</td>\n",
       "      <td>-118.487267</td>\n",
       "      <td>{'type': 'Point', 'coordinates': [-118.487267,...</td>\n",
       "    </tr>\n",
       "    <tr>\n",
       "      <th>3</th>\n",
       "      <td>3</td>\n",
       "      <td>3</td>\n",
       "      <td>{'description': None, 'address1': '442 Post St...</td>\n",
       "      <td>{'price_amount': None, 'price_currency_code': ...</td>\n",
       "      <td>games_video</td>\n",
       "      <td>None</td>\n",
       "      <td>2006</td>\n",
       "      <td>[{'id': 32, 'round_code': 'a', 'source_url': '...</td>\n",
       "      <td>[]</td>\n",
       "      <td>None</td>\n",
       "      <td>Kyte</td>\n",
       "      <td>40</td>\n",
       "      <td>[{'name': 'Kyte', 'permalink': 'kyte'}, {'name...</td>\n",
       "      <td>23400000.0</td>\n",
       "      <td>37.788482</td>\n",
       "      <td>-122.409173</td>\n",
       "      <td>{'type': 'Point', 'coordinates': [-122.409173,...</td>\n",
       "    </tr>\n",
       "    <tr>\n",
       "      <th>4</th>\n",
       "      <td>4</td>\n",
       "      <td>4</td>\n",
       "      <td>{'description': '', 'address1': '475 Park Ave ...</td>\n",
       "      <td>{'price_amount': 62500000, 'price_currency_cod...</td>\n",
       "      <td>mobile</td>\n",
       "      <td>None</td>\n",
       "      <td>2005</td>\n",
       "      <td>[{'id': 36, 'round_code': 'c', 'source_url': '...</td>\n",
       "      <td>[]</td>\n",
       "      <td>None</td>\n",
       "      <td>Jingle Networks</td>\n",
       "      <td>35</td>\n",
       "      <td>[{'name': 'MyFree411', 'permalink': 'myfree411'}]</td>\n",
       "      <td>88700000.0</td>\n",
       "      <td>37.480999</td>\n",
       "      <td>-122.173887</td>\n",
       "      <td>{'type': 'Point', 'coordinates': [-122.173887,...</td>\n",
       "    </tr>\n",
       "  </tbody>\n",
       "</table>\n",
       "</div>"
      ],
      "text/plain": [
       "   level_0  index                                             office  \\\n",
       "0        0      0  {'description': 'Headquarters', 'address1': '9...   \n",
       "1        1      1  {'description': '', 'address1': '100 5th Ave F...   \n",
       "2        2      2  {'description': '', 'address1': '3525 Eastham ...   \n",
       "3        3      3  {'description': None, 'address1': '442 Post St...   \n",
       "4        4      4  {'description': '', 'address1': '475 Park Ave ...   \n",
       "\n",
       "                                         acquisition category_code  \\\n",
       "0  {'price_amount': None, 'price_currency_code': ...           web   \n",
       "1  {'price_amount': None, 'price_currency_code': ...   games_video   \n",
       "2                                               None           web   \n",
       "3  {'price_amount': None, 'price_currency_code': ...   games_video   \n",
       "4  {'price_amount': 62500000, 'price_currency_cod...        mobile   \n",
       "\n",
       "  deadpooled_year  founded_year  \\\n",
       "0            None          2006   \n",
       "1            None          2006   \n",
       "2            None          2007   \n",
       "3            None          2006   \n",
       "4            None          2005   \n",
       "\n",
       "                                      funding_rounds investments   ipo  \\\n",
       "0  [{'id': 6, 'round_code': 'a', 'source_url': ''...          []  None   \n",
       "1  [{'id': 19, 'round_code': 'a', 'source_url': '...          []  None   \n",
       "2  [{'id': 323, 'round_code': 'a', 'source_url': ...          []  None   \n",
       "3  [{'id': 32, 'round_code': 'a', 'source_url': '...          []  None   \n",
       "4  [{'id': 36, 'round_code': 'c', 'source_url': '...          []  None   \n",
       "\n",
       "              name  number_of_employees  \\\n",
       "0             Geni                   18   \n",
       "1            Joost                    0   \n",
       "2           Mahalo                   40   \n",
       "3             Kyte                   40   \n",
       "4  Jingle Networks                   35   \n",
       "\n",
       "                                            products  \\\n",
       "0            [{'name': 'Geni', 'permalink': 'geni'}]   \n",
       "1          [{'name': 'Joost', 'permalink': 'joost'}]   \n",
       "2        [{'name': 'Mahalo', 'permalink': 'mahalo'}]   \n",
       "3  [{'name': 'Kyte', 'permalink': 'kyte'}, {'name...   \n",
       "4  [{'name': 'MyFree411', 'permalink': 'myfree411'}]   \n",
       "\n",
       "   total_money_raised_normalized_USD        lat         lng  \\\n",
       "0                         16500000.0  34.090368 -118.393064   \n",
       "1                         45000000.0  40.746497  -74.009447   \n",
       "2                         21000000.0  34.017606 -118.487267   \n",
       "3                         23400000.0  37.788482 -122.409173   \n",
       "4                         88700000.0  37.480999 -122.173887   \n",
       "\n",
       "                                   oficina_principal  \n",
       "0  {'type': 'Point', 'coordinates': [-118.393064,...  \n",
       "1  {'type': 'Point', 'coordinates': [-74.0094471,...  \n",
       "2  {'type': 'Point', 'coordinates': [-118.487267,...  \n",
       "3  {'type': 'Point', 'coordinates': [-122.409173,...  \n",
       "4  {'type': 'Point', 'coordinates': [-122.173887,...  "
      ]
     },
     "execution_count": 417,
     "metadata": {},
     "output_type": "execute_result"
    }
   ],
   "source": [
    "companies_with_coord_offices_clean_final_2.head()"
   ]
  },
  {
   "cell_type": "markdown",
   "metadata": {},
   "source": [
    "## Cálculo de la densidad monetaria, que la he definido como dinero invertido en las empresas que se encuentran dentro de un radio dividido por el número total de empresas que se encuentran dentro de dicho radio"
   ]
  },
  {
   "cell_type": "code",
   "execution_count": 418,
   "metadata": {},
   "outputs": [],
   "source": [
    "def findNear(geopoint, radio_max_meters=1000):\n",
    "    return db.offices.find({\n",
    "        \"oficina_principal\": {\n",
    "         \"$near\": {\n",
    "           \"$geometry\": geopoint,\n",
    "           \"$maxDistance\": radio_max_meters,\n",
    "         }\n",
    "       }\n",
    "    })"
   ]
  },
  {
   "cell_type": "code",
   "execution_count": 419,
   "metadata": {},
   "outputs": [
    {
     "name": "stderr",
     "output_type": "stream",
     "text": [
      "/Users/molins/anaconda3/envs/ironhack/lib/python3.7/site-packages/ipykernel_launcher.py:3: DeprecationWarning: count is deprecated. Use Collection.count_documents instead.\n",
      "  This is separate from the ipykernel package so we can avoid doing imports until\n"
     ]
    }
   ],
   "source": [
    "near=[]\n",
    "for i in range(len(companies_with_coord_offices_clean_final_2)):\n",
    "    near.append(findNear(companies_with_coord_offices_clean_final_2['oficina_principal'][i]).count())\n",
    "\n",
    "#print(companies_with_coord_offices_clean_final_2['oficina_principal'][1])"
   ]
  },
  {
   "cell_type": "code",
   "execution_count": 420,
   "metadata": {},
   "outputs": [
    {
     "name": "stderr",
     "output_type": "stream",
     "text": [
      "/Users/molins/anaconda3/envs/ironhack/lib/python3.7/site-packages/ipykernel_launcher.py:5: DeprecationWarning: count is deprecated. Use Collection.count_documents instead.\n",
      "  \"\"\"\n"
     ]
    }
   ],
   "source": [
    "near_money=[]\n",
    "for i in range(len(companies_with_coord_offices_clean_final_2)):\n",
    "    x= findNear(companies_with_coord_offices_clean_final_2['oficina_principal'][i])#.count()-1)\n",
    "    total=0\n",
    "    for j in range(x.count()):\n",
    "        total+=x[j]['total_money_raised_normalized_USD']\n",
    "    near_money.append(total)\n",
    "#print(companies_with_coord_offices_clean_final_2['oficina_principal'][1])"
   ]
  },
  {
   "cell_type": "code",
   "execution_count": 421,
   "metadata": {},
   "outputs": [],
   "source": [
    "money_density=[]\n",
    "for i in range(len(near)):\n",
    "    money_density.append(near_money[i]/near[i])"
   ]
  },
  {
   "cell_type": "code",
   "execution_count": 422,
   "metadata": {},
   "outputs": [
    {
     "data": {
      "text/html": [
       "<div>\n",
       "<style scoped>\n",
       "    .dataframe tbody tr th:only-of-type {\n",
       "        vertical-align: middle;\n",
       "    }\n",
       "\n",
       "    .dataframe tbody tr th {\n",
       "        vertical-align: top;\n",
       "    }\n",
       "\n",
       "    .dataframe thead th {\n",
       "        text-align: right;\n",
       "    }\n",
       "</style>\n",
       "<table border=\"1\" class=\"dataframe\">\n",
       "  <thead>\n",
       "    <tr style=\"text-align: right;\">\n",
       "      <th></th>\n",
       "      <th>level_0</th>\n",
       "      <th>index</th>\n",
       "      <th>office</th>\n",
       "      <th>acquisition</th>\n",
       "      <th>category_code</th>\n",
       "      <th>deadpooled_year</th>\n",
       "      <th>founded_year</th>\n",
       "      <th>funding_rounds</th>\n",
       "      <th>investments</th>\n",
       "      <th>ipo</th>\n",
       "      <th>name</th>\n",
       "      <th>number_of_employees</th>\n",
       "      <th>products</th>\n",
       "      <th>total_money_raised_normalized_USD</th>\n",
       "      <th>lat</th>\n",
       "      <th>lng</th>\n",
       "      <th>oficina_principal</th>\n",
       "      <th>money_density</th>\n",
       "    </tr>\n",
       "  </thead>\n",
       "  <tbody>\n",
       "    <tr>\n",
       "      <th>0</th>\n",
       "      <td>0</td>\n",
       "      <td>0</td>\n",
       "      <td>{'description': 'Headquarters', 'address1': '9...</td>\n",
       "      <td>{'price_amount': None, 'price_currency_code': ...</td>\n",
       "      <td>web</td>\n",
       "      <td>None</td>\n",
       "      <td>2006</td>\n",
       "      <td>[{'id': 6, 'round_code': 'a', 'source_url': ''...</td>\n",
       "      <td>[]</td>\n",
       "      <td>None</td>\n",
       "      <td>Geni</td>\n",
       "      <td>18</td>\n",
       "      <td>[{'name': 'Geni', 'permalink': 'geni'}]</td>\n",
       "      <td>16500000.0</td>\n",
       "      <td>34.090368</td>\n",
       "      <td>-118.393064</td>\n",
       "      <td>{'type': 'Point', 'coordinates': [-118.393064,...</td>\n",
       "      <td>1.650000e+07</td>\n",
       "    </tr>\n",
       "    <tr>\n",
       "      <th>1</th>\n",
       "      <td>1</td>\n",
       "      <td>1</td>\n",
       "      <td>{'description': '', 'address1': '100 5th Ave F...</td>\n",
       "      <td>{'price_amount': None, 'price_currency_code': ...</td>\n",
       "      <td>games_video</td>\n",
       "      <td>None</td>\n",
       "      <td>2006</td>\n",
       "      <td>[{'id': 19, 'round_code': 'a', 'source_url': '...</td>\n",
       "      <td>[]</td>\n",
       "      <td>None</td>\n",
       "      <td>Joost</td>\n",
       "      <td>0</td>\n",
       "      <td>[{'name': 'Joost', 'permalink': 'joost'}]</td>\n",
       "      <td>45000000.0</td>\n",
       "      <td>40.746497</td>\n",
       "      <td>-74.009447</td>\n",
       "      <td>{'type': 'Point', 'coordinates': [-74.0094471,...</td>\n",
       "      <td>2.187500e+07</td>\n",
       "    </tr>\n",
       "    <tr>\n",
       "      <th>2</th>\n",
       "      <td>2</td>\n",
       "      <td>2</td>\n",
       "      <td>{'description': '', 'address1': '3525 Eastham ...</td>\n",
       "      <td>None</td>\n",
       "      <td>web</td>\n",
       "      <td>None</td>\n",
       "      <td>2007</td>\n",
       "      <td>[{'id': 323, 'round_code': 'a', 'source_url': ...</td>\n",
       "      <td>[]</td>\n",
       "      <td>None</td>\n",
       "      <td>Mahalo</td>\n",
       "      <td>40</td>\n",
       "      <td>[{'name': 'Mahalo', 'permalink': 'mahalo'}]</td>\n",
       "      <td>21000000.0</td>\n",
       "      <td>34.017606</td>\n",
       "      <td>-118.487267</td>\n",
       "      <td>{'type': 'Point', 'coordinates': [-118.487267,...</td>\n",
       "      <td>1.376667e+07</td>\n",
       "    </tr>\n",
       "    <tr>\n",
       "      <th>3</th>\n",
       "      <td>3</td>\n",
       "      <td>3</td>\n",
       "      <td>{'description': None, 'address1': '442 Post St...</td>\n",
       "      <td>{'price_amount': None, 'price_currency_code': ...</td>\n",
       "      <td>games_video</td>\n",
       "      <td>None</td>\n",
       "      <td>2006</td>\n",
       "      <td>[{'id': 32, 'round_code': 'a', 'source_url': '...</td>\n",
       "      <td>[]</td>\n",
       "      <td>None</td>\n",
       "      <td>Kyte</td>\n",
       "      <td>40</td>\n",
       "      <td>[{'name': 'Kyte', 'permalink': 'kyte'}, {'name...</td>\n",
       "      <td>23400000.0</td>\n",
       "      <td>37.788482</td>\n",
       "      <td>-122.409173</td>\n",
       "      <td>{'type': 'Point', 'coordinates': [-122.409173,...</td>\n",
       "      <td>2.861771e+07</td>\n",
       "    </tr>\n",
       "    <tr>\n",
       "      <th>4</th>\n",
       "      <td>4</td>\n",
       "      <td>4</td>\n",
       "      <td>{'description': '', 'address1': '475 Park Ave ...</td>\n",
       "      <td>{'price_amount': 62500000, 'price_currency_cod...</td>\n",
       "      <td>mobile</td>\n",
       "      <td>None</td>\n",
       "      <td>2005</td>\n",
       "      <td>[{'id': 36, 'round_code': 'c', 'source_url': '...</td>\n",
       "      <td>[]</td>\n",
       "      <td>None</td>\n",
       "      <td>Jingle Networks</td>\n",
       "      <td>35</td>\n",
       "      <td>[{'name': 'MyFree411', 'permalink': 'myfree411'}]</td>\n",
       "      <td>88700000.0</td>\n",
       "      <td>37.480999</td>\n",
       "      <td>-122.173887</td>\n",
       "      <td>{'type': 'Point', 'coordinates': [-122.173887,...</td>\n",
       "      <td>6.635000e+07</td>\n",
       "    </tr>\n",
       "  </tbody>\n",
       "</table>\n",
       "</div>"
      ],
      "text/plain": [
       "   level_0  index                                             office  \\\n",
       "0        0      0  {'description': 'Headquarters', 'address1': '9...   \n",
       "1        1      1  {'description': '', 'address1': '100 5th Ave F...   \n",
       "2        2      2  {'description': '', 'address1': '3525 Eastham ...   \n",
       "3        3      3  {'description': None, 'address1': '442 Post St...   \n",
       "4        4      4  {'description': '', 'address1': '475 Park Ave ...   \n",
       "\n",
       "                                         acquisition category_code  \\\n",
       "0  {'price_amount': None, 'price_currency_code': ...           web   \n",
       "1  {'price_amount': None, 'price_currency_code': ...   games_video   \n",
       "2                                               None           web   \n",
       "3  {'price_amount': None, 'price_currency_code': ...   games_video   \n",
       "4  {'price_amount': 62500000, 'price_currency_cod...        mobile   \n",
       "\n",
       "  deadpooled_year  founded_year  \\\n",
       "0            None          2006   \n",
       "1            None          2006   \n",
       "2            None          2007   \n",
       "3            None          2006   \n",
       "4            None          2005   \n",
       "\n",
       "                                      funding_rounds investments   ipo  \\\n",
       "0  [{'id': 6, 'round_code': 'a', 'source_url': ''...          []  None   \n",
       "1  [{'id': 19, 'round_code': 'a', 'source_url': '...          []  None   \n",
       "2  [{'id': 323, 'round_code': 'a', 'source_url': ...          []  None   \n",
       "3  [{'id': 32, 'round_code': 'a', 'source_url': '...          []  None   \n",
       "4  [{'id': 36, 'round_code': 'c', 'source_url': '...          []  None   \n",
       "\n",
       "              name  number_of_employees  \\\n",
       "0             Geni                   18   \n",
       "1            Joost                    0   \n",
       "2           Mahalo                   40   \n",
       "3             Kyte                   40   \n",
       "4  Jingle Networks                   35   \n",
       "\n",
       "                                            products  \\\n",
       "0            [{'name': 'Geni', 'permalink': 'geni'}]   \n",
       "1          [{'name': 'Joost', 'permalink': 'joost'}]   \n",
       "2        [{'name': 'Mahalo', 'permalink': 'mahalo'}]   \n",
       "3  [{'name': 'Kyte', 'permalink': 'kyte'}, {'name...   \n",
       "4  [{'name': 'MyFree411', 'permalink': 'myfree411'}]   \n",
       "\n",
       "   total_money_raised_normalized_USD        lat         lng  \\\n",
       "0                         16500000.0  34.090368 -118.393064   \n",
       "1                         45000000.0  40.746497  -74.009447   \n",
       "2                         21000000.0  34.017606 -118.487267   \n",
       "3                         23400000.0  37.788482 -122.409173   \n",
       "4                         88700000.0  37.480999 -122.173887   \n",
       "\n",
       "                                   oficina_principal  money_density  \n",
       "0  {'type': 'Point', 'coordinates': [-118.393064,...   1.650000e+07  \n",
       "1  {'type': 'Point', 'coordinates': [-74.0094471,...   2.187500e+07  \n",
       "2  {'type': 'Point', 'coordinates': [-118.487267,...   1.376667e+07  \n",
       "3  {'type': 'Point', 'coordinates': [-122.409173,...   2.861771e+07  \n",
       "4  {'type': 'Point', 'coordinates': [-122.173887,...   6.635000e+07  "
      ]
     },
     "execution_count": 422,
     "metadata": {},
     "output_type": "execute_result"
    }
   ],
   "source": [
    "companies_with_coord_offices_clean_final_2['money_density']=money_density\n",
    "companies_with_coord_offices_clean_final_2.head()"
   ]
  },
  {
   "cell_type": "markdown",
   "metadata": {},
   "source": [
    "## Ordenando el dataframe por la densidad monetaria"
   ]
  },
  {
   "cell_type": "code",
   "execution_count": 423,
   "metadata": {},
   "outputs": [],
   "source": [
    "companies_with_coord_offices_clean_final_2 = companies_with_coord_offices_clean_final_2.sort_values(by='money_density',ascending=False).drop(['level_0','index'],axis=1)"
   ]
  },
  {
   "cell_type": "code",
   "execution_count": 424,
   "metadata": {
    "scrolled": true
   },
   "outputs": [
    {
     "data": {
      "text/html": [
       "<div>\n",
       "<style scoped>\n",
       "    .dataframe tbody tr th:only-of-type {\n",
       "        vertical-align: middle;\n",
       "    }\n",
       "\n",
       "    .dataframe tbody tr th {\n",
       "        vertical-align: top;\n",
       "    }\n",
       "\n",
       "    .dataframe thead th {\n",
       "        text-align: right;\n",
       "    }\n",
       "</style>\n",
       "<table border=\"1\" class=\"dataframe\">\n",
       "  <thead>\n",
       "    <tr style=\"text-align: right;\">\n",
       "      <th></th>\n",
       "      <th>office</th>\n",
       "      <th>acquisition</th>\n",
       "      <th>category_code</th>\n",
       "      <th>deadpooled_year</th>\n",
       "      <th>founded_year</th>\n",
       "      <th>funding_rounds</th>\n",
       "      <th>investments</th>\n",
       "      <th>ipo</th>\n",
       "      <th>name</th>\n",
       "      <th>number_of_employees</th>\n",
       "      <th>products</th>\n",
       "      <th>total_money_raised_normalized_USD</th>\n",
       "      <th>lat</th>\n",
       "      <th>lng</th>\n",
       "      <th>oficina_principal</th>\n",
       "      <th>money_density</th>\n",
       "    </tr>\n",
       "  </thead>\n",
       "  <tbody>\n",
       "    <tr>\n",
       "      <th>0</th>\n",
       "      <td>{'description': '', 'address1': '1051 East Hil...</td>\n",
       "      <td>None</td>\n",
       "      <td>software</td>\n",
       "      <td>None</td>\n",
       "      <td>2007</td>\n",
       "      <td>[{'id': 1763, 'round_code': 'a', 'source_url':...</td>\n",
       "      <td>[]</td>\n",
       "      <td>None</td>\n",
       "      <td>Zuora</td>\n",
       "      <td>250</td>\n",
       "      <td>[]</td>\n",
       "      <td>128000000.0</td>\n",
       "      <td>37.559628</td>\n",
       "      <td>-122.270987</td>\n",
       "      <td>{'type': 'Point', 'coordinates': [-122.2709868...</td>\n",
       "      <td>3.196667e+08</td>\n",
       "    </tr>\n",
       "    <tr>\n",
       "      <th>1</th>\n",
       "      <td>{'description': 'Elevance Renewable', 'address...</td>\n",
       "      <td>None</td>\n",
       "      <td>cleantech</td>\n",
       "      <td>None</td>\n",
       "      <td>2007</td>\n",
       "      <td>[{'id': 6041, 'round_code': 'a', 'source_url':...</td>\n",
       "      <td>[]</td>\n",
       "      <td>None</td>\n",
       "      <td>Elevance Renewable Sciences</td>\n",
       "      <td>68</td>\n",
       "      <td>[]</td>\n",
       "      <td>294000000.0</td>\n",
       "      <td>41.675004</td>\n",
       "      <td>-88.064215</td>\n",
       "      <td>{'type': 'Point', 'coordinates': [-88.0642145,...</td>\n",
       "      <td>2.940000e+08</td>\n",
       "    </tr>\n",
       "    <tr>\n",
       "      <th>2</th>\n",
       "      <td>{'description': None, 'address1': '130 West Un...</td>\n",
       "      <td>None</td>\n",
       "      <td>cleantech</td>\n",
       "      <td>None</td>\n",
       "      <td>2007</td>\n",
       "      <td>[{'id': 2102, 'round_code': 'b', 'source_url':...</td>\n",
       "      <td>[]</td>\n",
       "      <td>None</td>\n",
       "      <td>eSolar</td>\n",
       "      <td>140</td>\n",
       "      <td>[]</td>\n",
       "      <td>192000000.0</td>\n",
       "      <td>34.146436</td>\n",
       "      <td>-118.153136</td>\n",
       "      <td>{'type': 'Point', 'coordinates': [-118.153136,...</td>\n",
       "      <td>1.920000e+08</td>\n",
       "    </tr>\n",
       "    <tr>\n",
       "      <th>3</th>\n",
       "      <td>{'description': 'TestPlant', 'address1': '3000...</td>\n",
       "      <td>None</td>\n",
       "      <td>software</td>\n",
       "      <td>None</td>\n",
       "      <td>2008</td>\n",
       "      <td>[{'id': 7135, 'round_code': 'unattributed', 's...</td>\n",
       "      <td>[]</td>\n",
       "      <td>None</td>\n",
       "      <td>Testplant</td>\n",
       "      <td>50</td>\n",
       "      <td>[{'name': 'eggPlant', 'permalink': 'eggplant'}]</td>\n",
       "      <td>2560000.0</td>\n",
       "      <td>40.023005</td>\n",
       "      <td>-105.253284</td>\n",
       "      <td>{'type': 'Point', 'coordinates': [-105.2532841...</td>\n",
       "      <td>1.797800e+08</td>\n",
       "    </tr>\n",
       "    <tr>\n",
       "      <th>4</th>\n",
       "      <td>{'description': '', 'address1': '1500 Fashion ...</td>\n",
       "      <td>None</td>\n",
       "      <td>web</td>\n",
       "      <td>None</td>\n",
       "      <td>2007</td>\n",
       "      <td>[{'id': 634, 'round_code': 'a', 'source_url': ...</td>\n",
       "      <td>[]</td>\n",
       "      <td>None</td>\n",
       "      <td>SpeedDate</td>\n",
       "      <td>0</td>\n",
       "      <td>[{'name': 'SpeedDate.com', 'permalink': 'speed...</td>\n",
       "      <td>11600000.0</td>\n",
       "      <td>37.557637</td>\n",
       "      <td>-122.285714</td>\n",
       "      <td>{'type': 'Point', 'coordinates': [-122.285714,...</td>\n",
       "      <td>1.330586e+08</td>\n",
       "    </tr>\n",
       "  </tbody>\n",
       "</table>\n",
       "</div>"
      ],
      "text/plain": [
       "                                              office acquisition  \\\n",
       "0  {'description': '', 'address1': '1051 East Hil...        None   \n",
       "1  {'description': 'Elevance Renewable', 'address...        None   \n",
       "2  {'description': None, 'address1': '130 West Un...        None   \n",
       "3  {'description': 'TestPlant', 'address1': '3000...        None   \n",
       "4  {'description': '', 'address1': '1500 Fashion ...        None   \n",
       "\n",
       "  category_code deadpooled_year  founded_year  \\\n",
       "0      software            None          2007   \n",
       "1     cleantech            None          2007   \n",
       "2     cleantech            None          2007   \n",
       "3      software            None          2008   \n",
       "4           web            None          2007   \n",
       "\n",
       "                                      funding_rounds investments   ipo  \\\n",
       "0  [{'id': 1763, 'round_code': 'a', 'source_url':...          []  None   \n",
       "1  [{'id': 6041, 'round_code': 'a', 'source_url':...          []  None   \n",
       "2  [{'id': 2102, 'round_code': 'b', 'source_url':...          []  None   \n",
       "3  [{'id': 7135, 'round_code': 'unattributed', 's...          []  None   \n",
       "4  [{'id': 634, 'round_code': 'a', 'source_url': ...          []  None   \n",
       "\n",
       "                          name  number_of_employees  \\\n",
       "0                        Zuora                  250   \n",
       "1  Elevance Renewable Sciences                   68   \n",
       "2                       eSolar                  140   \n",
       "3                    Testplant                   50   \n",
       "4                    SpeedDate                    0   \n",
       "\n",
       "                                            products  \\\n",
       "0                                                 []   \n",
       "1                                                 []   \n",
       "2                                                 []   \n",
       "3    [{'name': 'eggPlant', 'permalink': 'eggplant'}]   \n",
       "4  [{'name': 'SpeedDate.com', 'permalink': 'speed...   \n",
       "\n",
       "   total_money_raised_normalized_USD        lat         lng  \\\n",
       "0                        128000000.0  37.559628 -122.270987   \n",
       "1                        294000000.0  41.675004  -88.064215   \n",
       "2                        192000000.0  34.146436 -118.153136   \n",
       "3                          2560000.0  40.023005 -105.253284   \n",
       "4                         11600000.0  37.557637 -122.285714   \n",
       "\n",
       "                                   oficina_principal  money_density  \n",
       "0  {'type': 'Point', 'coordinates': [-122.2709868...   3.196667e+08  \n",
       "1  {'type': 'Point', 'coordinates': [-88.0642145,...   2.940000e+08  \n",
       "2  {'type': 'Point', 'coordinates': [-118.153136,...   1.920000e+08  \n",
       "3  {'type': 'Point', 'coordinates': [-105.2532841...   1.797800e+08  \n",
       "4  {'type': 'Point', 'coordinates': [-122.285714,...   1.330586e+08  "
      ]
     },
     "execution_count": 424,
     "metadata": {},
     "output_type": "execute_result"
    }
   ],
   "source": [
    "companies_with_coord_offices_clean_final_2.reset_index(drop=True, inplace=True)\n",
    "companies_with_coord_offices_clean_final_2.head()"
   ]
  },
  {
   "cell_type": "code",
   "execution_count": 425,
   "metadata": {},
   "outputs": [
    {
     "data": {
      "text/plain": [
       "{'description': 'United States',\n",
       " 'address1': '300 De Haro St',\n",
       " 'address2': 'South Train',\n",
       " 'zip_code': '94103',\n",
       " 'city': 'San Francisco',\n",
       " 'state_code': 'CA',\n",
       " 'country_code': 'USA',\n",
       " 'latitude': 37.787204,\n",
       " 'longitude': -122.397884}"
      ]
     },
     "execution_count": 425,
     "metadata": {},
     "output_type": "execute_result"
    }
   ],
   "source": [
    "companies_with_coord_offices_clean_final_2['office'][100]"
   ]
  },
  {
   "cell_type": "code",
   "execution_count": 426,
   "metadata": {},
   "outputs": [
    {
     "name": "stderr",
     "output_type": "stream",
     "text": [
      "/Users/molins/anaconda3/envs/ironhack/lib/python3.7/site-packages/ipykernel_launcher.py:5: DeprecationWarning: count is deprecated. Use Collection.count_documents instead.\n",
      "  \"\"\"\n"
     ]
    }
   ],
   "source": [
    "young_companies=[]\n",
    "for i in range(len(companies_with_coord_offices_clean_final_2)):\n",
    "    x= findNear(companies_with_coord_offices_clean_final_2['oficina_principal'][i])#.count()-1)\n",
    "    young=0\n",
    "    for j in range(x.count()):\n",
    "        if x[j]['founded_year']>=2010:\n",
    "            young+=1\n",
    "    young_companies.append(young)\n",
    "#print(companies_with_coord_offices_clean_final_2['oficina_principal'][1])"
   ]
  },
  {
   "cell_type": "code",
   "execution_count": 427,
   "metadata": {},
   "outputs": [
    {
     "data": {
      "text/plain": [
       "9"
      ]
     },
     "execution_count": 427,
     "metadata": {},
     "output_type": "execute_result"
    }
   ],
   "source": [
    "young_companies.count(2)"
   ]
  },
  {
   "cell_type": "code",
   "execution_count": 428,
   "metadata": {},
   "outputs": [],
   "source": [
    "companies_with_coord_offices_clean_final_2['young_companies']=young_companies"
   ]
  },
  {
   "cell_type": "markdown",
   "metadata": {},
   "source": [
    "## Haciendo ranking ponderando con un 70% a la densidad monetaria y con un 30% a la cercanía de empresas jóvenes."
   ]
  },
  {
   "cell_type": "code",
   "execution_count": 429,
   "metadata": {},
   "outputs": [],
   "source": [
    "max_comp = companies_with_coord_offices_clean_final_2['young_companies'].max()\n",
    "max_mon_den = companies_with_coord_offices_clean_final_2['money_density'].max()"
   ]
  },
  {
   "cell_type": "code",
   "execution_count": 430,
   "metadata": {},
   "outputs": [],
   "source": [
    "ranking=[]\n",
    "for i in range(len(companies_with_coord_offices_clean_final_2['young_companies'])):\n",
    "    ranking.append((companies_with_coord_offices_clean_final_2['money_density'][i]/max_mon_den)*0.75+ (companies_with_coord_offices_clean_final_2['young_companies'][i]/max_comp)*0.25)"
   ]
  },
  {
   "cell_type": "code",
   "execution_count": 431,
   "metadata": {},
   "outputs": [],
   "source": [
    "companies_with_coord_offices_clean_final_2['ranking']=ranking"
   ]
  },
  {
   "cell_type": "code",
   "execution_count": 439,
   "metadata": {},
   "outputs": [],
   "source": [
    "companies_with_coord_offices_clean_final_2 = companies_with_coord_offices_clean_final_2.sort_values(by=['ranking','money_density','young_companies'],ascending=[False,False,False])"
   ]
  },
  {
   "cell_type": "code",
   "execution_count": 440,
   "metadata": {},
   "outputs": [
    {
     "data": {
      "text/plain": [
       "(54, 18)"
      ]
     },
     "execution_count": 440,
     "metadata": {},
     "output_type": "execute_result"
    }
   ],
   "source": [
    "companies_with_coord_offices_clean_final_2 = companies_with_coord_offices_clean_final_2[companies_with_coord_offices_clean_final_2['ranking']>=0.164229]\n",
    "companies_with_coord_offices_clean_final_2.shape"
   ]
  },
  {
   "cell_type": "code",
   "execution_count": 442,
   "metadata": {},
   "outputs": [
    {
     "data": {
      "text/html": [
       "<div style=\"width:100%;\"><div style=\"position:relative;width:100%;height:0;padding-bottom:60%;\"><iframe src=\"data:text/html;charset=utf-8;base64,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\" style=\"position:absolute;width:100%;height:100%;left:0;top:0;border:none !important;\" allowfullscreen webkitallowfullscreen mozallowfullscreen></iframe></div></div>"
      ],
      "text/plain": [
       "<folium.folium.Map at 0x121ab1a58>"
      ]
     },
     "execution_count": 442,
     "metadata": {},
     "output_type": "execute_result"
    }
   ],
   "source": [
    "mapa = folium.Map(location=[40, -45], zoom_start=2.5)\n",
    "latlng = companies_with_coord_offices_clean_final_2[['lat', 'lng']].values\n",
    "mapa.add_child(plugins.HeatMap(latlng, radius=20))\n",
    "mapa"
   ]
  },
  {
   "cell_type": "markdown",
   "metadata": {},
   "source": [
    "## Usando API Google para encontrar Starbucks cercanos"
   ]
  },
  {
   "cell_type": "code",
   "execution_count": null,
   "metadata": {},
   "outputs": [],
   "source": []
  },
  {
   "cell_type": "code",
   "execution_count": 52,
   "metadata": {},
   "outputs": [
    {
     "name": "stdout",
     "output_type": "stream",
     "text": [
      "0\n"
     ]
    }
   ],
   "source": [
    "for i in range(1):\n",
    "    lat = companies_with_coord_offices_clean_final_2['lat'][i]\n",
    "    lng = companies_with_coord_offices_clean_final_2['lng'][i]\n",
    "    radio = 100\n",
    "    places=req.get('https://maps.googleapis.com/maps/api/place/nearbysearch/json?location={},{}&radius={}&keyword={}&key={}'.format(str(lat),str(lng),str(radio),'starbucks',api_key)).json()\n",
    "    print(len(places['results']))"
   ]
  }
 ],
 "metadata": {
  "kernelspec": {
   "display_name": "Python 3",
   "language": "python",
   "name": "python3"
  },
  "language_info": {
   "codemirror_mode": {
    "name": "ipython",
    "version": 3
   },
   "file_extension": ".py",
   "mimetype": "text/x-python",
   "name": "python",
   "nbconvert_exporter": "python",
   "pygments_lexer": "ipython3",
   "version": "3.7.3"
  }
 },
 "nbformat": 4,
 "nbformat_minor": 2
}
